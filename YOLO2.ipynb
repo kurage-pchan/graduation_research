{
 "cells": [
  {
   "cell_type": "code",
   "execution_count": 2,
   "metadata": {},
   "outputs": [],
   "source": [
    "from ultralytics import YOLO\n",
    "import cv2"
   ]
  },
  {
   "cell_type": "code",
   "execution_count": 3,
   "metadata": {},
   "outputs": [
    {
     "name": "stdout",
     "output_type": "stream",
     "text": [
      "Downloading https://github.com/ultralytics/assets/releases/download/v8.2.0/yolov8x.pt to 'yolov8x.pt'...\n"
     ]
    },
    {
     "name": "stderr",
     "output_type": "stream",
     "text": [
      "100%|██████████| 131M/131M [00:02<00:00, 51.2MB/s] \n"
     ]
    },
    {
     "name": "stdout",
     "output_type": "stream",
     "text": [
      "New https://pypi.org/project/ultralytics/8.2.41 available  Update with 'pip install -U ultralytics'\n",
      "Ultralytics YOLOv8.2.40  Python-3.9.13 torch-2.0.0+cu118 CUDA:0 (NVIDIA GeForce RTX 4070, 12282MiB)\n",
      "\u001b[34m\u001b[1mengine\\trainer: \u001b[0mtask=detect, mode=train, model=yolov8x.pt, data=./files/images/dataset.yaml, epochs=50, time=None, patience=100, batch=8, imgsz=640, save=True, save_period=-1, cache=False, device=None, workers=4, project=None, name=train, exist_ok=False, pretrained=True, optimizer=auto, verbose=True, seed=0, deterministic=True, single_cls=False, rect=False, cos_lr=False, close_mosaic=10, resume=False, amp=True, fraction=1.0, profile=False, freeze=None, multi_scale=False, overlap_mask=True, mask_ratio=4, dropout=0.0, val=True, split=val, save_json=False, save_hybrid=False, conf=None, iou=0.7, max_det=300, half=False, dnn=False, plots=True, source=None, vid_stride=1, stream_buffer=False, visualize=False, augment=False, agnostic_nms=False, classes=None, retina_masks=False, embed=None, show=False, save_frames=False, save_txt=False, save_conf=False, save_crop=False, show_labels=True, show_conf=True, show_boxes=True, line_width=None, format=torchscript, keras=False, optimize=False, int8=False, dynamic=False, simplify=False, opset=None, workspace=4, nms=False, lr0=0.01, lrf=0.01, momentum=0.937, weight_decay=0.0005, warmup_epochs=3.0, warmup_momentum=0.8, warmup_bias_lr=0.1, box=7.5, cls=0.5, dfl=1.5, pose=12.0, kobj=1.0, label_smoothing=0.0, nbs=64, hsv_h=0.015, hsv_s=0.7, hsv_v=0.4, degrees=90.0, translate=0.1, scale=0.5, shear=0.0, perspective=0.0, flipud=0.0, fliplr=0.5, bgr=0.0, mosaic=1.0, mixup=0.0, copy_paste=0.0, auto_augment=randaugment, erasing=0.4, crop_fraction=1.0, cfg=None, tracker=botsort.yaml, save_dir=runs\\detect\\train\n",
      "Overriding model.yaml nc=80 with nc=2\n",
      "\n",
      "                   from  n    params  module                                       arguments                     \n",
      "  0                  -1  1      2320  ultralytics.nn.modules.conv.Conv             [3, 80, 3, 2]                 \n",
      "  1                  -1  1    115520  ultralytics.nn.modules.conv.Conv             [80, 160, 3, 2]               \n",
      "  2                  -1  3    436800  ultralytics.nn.modules.block.C2f             [160, 160, 3, True]           \n",
      "  3                  -1  1    461440  ultralytics.nn.modules.conv.Conv             [160, 320, 3, 2]              \n",
      "  4                  -1  6   3281920  ultralytics.nn.modules.block.C2f             [320, 320, 6, True]           \n",
      "  5                  -1  1   1844480  ultralytics.nn.modules.conv.Conv             [320, 640, 3, 2]              \n",
      "  6                  -1  6  13117440  ultralytics.nn.modules.block.C2f             [640, 640, 6, True]           \n",
      "  7                  -1  1   3687680  ultralytics.nn.modules.conv.Conv             [640, 640, 3, 2]              \n",
      "  8                  -1  3   6969600  ultralytics.nn.modules.block.C2f             [640, 640, 3, True]           \n",
      "  9                  -1  1   1025920  ultralytics.nn.modules.block.SPPF            [640, 640, 5]                 \n",
      " 10                  -1  1         0  torch.nn.modules.upsampling.Upsample         [None, 2, 'nearest']          \n",
      " 11             [-1, 6]  1         0  ultralytics.nn.modules.conv.Concat           [1]                           \n",
      " 12                  -1  3   7379200  ultralytics.nn.modules.block.C2f             [1280, 640, 3]                \n",
      " 13                  -1  1         0  torch.nn.modules.upsampling.Upsample         [None, 2, 'nearest']          \n",
      " 14             [-1, 4]  1         0  ultralytics.nn.modules.conv.Concat           [1]                           \n",
      " 15                  -1  3   1948800  ultralytics.nn.modules.block.C2f             [960, 320, 3]                 \n",
      " 16                  -1  1    922240  ultralytics.nn.modules.conv.Conv             [320, 320, 3, 2]              \n",
      " 17            [-1, 12]  1         0  ultralytics.nn.modules.conv.Concat           [1]                           \n",
      " 18                  -1  3   7174400  ultralytics.nn.modules.block.C2f             [960, 640, 3]                 \n",
      " 19                  -1  1   3687680  ultralytics.nn.modules.conv.Conv             [640, 640, 3, 2]              \n",
      " 20             [-1, 9]  1         0  ultralytics.nn.modules.conv.Concat           [1]                           \n",
      " 21                  -1  3   7379200  ultralytics.nn.modules.block.C2f             [1280, 640, 3]                \n",
      " 22        [15, 18, 21]  1   8719894  ultralytics.nn.modules.head.Detect           [2, [320, 640, 640]]          \n",
      "Model summary: 365 layers, 68154534 parameters, 68154518 gradients, 258.1 GFLOPs\n",
      "\n",
      "Transferred 589/595 items from pretrained weights\n",
      "Freezing layer 'model.22.dfl.conv.weight'\n",
      "\u001b[34m\u001b[1mAMP: \u001b[0mrunning Automatic Mixed Precision (AMP) checks with YOLOv8n...\n",
      "\u001b[34m\u001b[1mAMP: \u001b[0mchecks passed \n"
     ]
    },
    {
     "name": "stderr",
     "output_type": "stream",
     "text": [
      "\u001b[34m\u001b[1mtrain: \u001b[0mScanning D:\\Code\\research\\task2-Doh\\files\\labels\\train.cache... 40 images, 0 backgrounds, 0 corrupt: 100%|██████████| 40/40 [00:00<?, ?it/s]\n",
      "\u001b[34m\u001b[1mval: \u001b[0mScanning D:\\Code\\research\\task2-Doh\\files\\labels\\val.cache... 16 images, 0 backgrounds, 0 corrupt: 100%|██████████| 16/16 [00:00<?, ?it/s]\n"
     ]
    },
    {
     "name": "stdout",
     "output_type": "stream",
     "text": [
      "Plotting labels to runs\\detect\\train\\labels.jpg... \n",
      "\u001b[34m\u001b[1moptimizer:\u001b[0m 'optimizer=auto' found, ignoring 'lr0=0.01' and 'momentum=0.937' and determining best 'optimizer', 'lr0' and 'momentum' automatically... \n",
      "\u001b[34m\u001b[1moptimizer:\u001b[0m AdamW(lr=0.001667, momentum=0.9) with parameter groups 97 weight(decay=0.0), 104 weight(decay=0.0005), 103 bias(decay=0.0)\n",
      "Image sizes 640 train, 640 val\n",
      "Using 4 dataloader workers\n",
      "Logging results to \u001b[1mruns\\detect\\train\u001b[0m\n",
      "Starting training for 50 epochs...\n",
      "\n",
      "      Epoch    GPU_mem   box_loss   cls_loss   dfl_loss  Instances       Size\n"
     ]
    },
    {
     "name": "stderr",
     "output_type": "stream",
     "text": [
      "       1/50       9.4G      2.745      4.048      1.504       1994        640: 100%|██████████| 5/5 [00:08<00:00,  1.73s/it]\n",
      "                 Class     Images  Instances      Box(P          R      mAP50  mAP50-95): 100%|██████████| 1/1 [00:00<00:00,  2.63it/s]"
     ]
    },
    {
     "name": "stdout",
     "output_type": "stream",
     "text": [
      "                   all         16       3135    0.00668     0.0067    0.00338    0.00124\n"
     ]
    },
    {
     "name": "stderr",
     "output_type": "stream",
     "text": [
      "\n"
     ]
    },
    {
     "name": "stdout",
     "output_type": "stream",
     "text": [
      "\n",
      "      Epoch    GPU_mem   box_loss   cls_loss   dfl_loss  Instances       Size\n"
     ]
    },
    {
     "name": "stderr",
     "output_type": "stream",
     "text": [
      "       2/50      8.73G      2.382      3.255      1.272       2824        640: 100%|██████████| 5/5 [00:02<00:00,  2.39it/s]\n",
      "                 Class     Images  Instances      Box(P          R      mAP50  mAP50-95): 100%|██████████| 1/1 [00:00<00:00,  2.88it/s]"
     ]
    },
    {
     "name": "stdout",
     "output_type": "stream",
     "text": [
      "                   all         16       3135      0.193      0.256      0.121     0.0882\n"
     ]
    },
    {
     "name": "stderr",
     "output_type": "stream",
     "text": [
      "\n"
     ]
    },
    {
     "name": "stdout",
     "output_type": "stream",
     "text": [
      "\n",
      "      Epoch    GPU_mem   box_loss   cls_loss   dfl_loss  Instances       Size\n"
     ]
    },
    {
     "name": "stderr",
     "output_type": "stream",
     "text": [
      "       3/50      9.02G      1.432      1.529     0.9331       2811        640: 100%|██████████| 5/5 [00:02<00:00,  2.23it/s]\n",
      "                 Class     Images  Instances      Box(P          R      mAP50  mAP50-95): 100%|██████████| 1/1 [00:00<00:00,  4.17it/s]"
     ]
    },
    {
     "name": "stdout",
     "output_type": "stream",
     "text": [
      "                   all         16       3135      0.875      0.819      0.843      0.581\n"
     ]
    },
    {
     "name": "stderr",
     "output_type": "stream",
     "text": [
      "\n"
     ]
    },
    {
     "name": "stdout",
     "output_type": "stream",
     "text": [
      "\n",
      "      Epoch    GPU_mem   box_loss   cls_loss   dfl_loss  Instances       Size\n"
     ]
    },
    {
     "name": "stderr",
     "output_type": "stream",
     "text": [
      "       4/50      10.5G      1.597      1.294     0.9435       2670        640: 100%|██████████| 5/5 [00:04<00:00,  1.07it/s]\n",
      "                 Class     Images  Instances      Box(P          R      mAP50  mAP50-95): 100%|██████████| 1/1 [00:00<00:00,  4.27it/s]"
     ]
    },
    {
     "name": "stdout",
     "output_type": "stream",
     "text": [
      "                   all         16       3135      0.889      0.851      0.891      0.495\n"
     ]
    },
    {
     "name": "stderr",
     "output_type": "stream",
     "text": [
      "\n"
     ]
    },
    {
     "name": "stdout",
     "output_type": "stream",
     "text": [
      "\n",
      "      Epoch    GPU_mem   box_loss   cls_loss   dfl_loss  Instances       Size\n"
     ]
    },
    {
     "name": "stderr",
     "output_type": "stream",
     "text": [
      "       5/50      9.04G      1.337     0.7042     0.9095       1890        640: 100%|██████████| 5/5 [00:01<00:00,  2.61it/s]\n",
      "                 Class     Images  Instances      Box(P          R      mAP50  mAP50-95): 100%|██████████| 1/1 [00:00<00:00,  4.41it/s]"
     ]
    },
    {
     "name": "stdout",
     "output_type": "stream",
     "text": [
      "                   all         16       3135      0.817      0.639      0.685      0.419\n"
     ]
    },
    {
     "name": "stderr",
     "output_type": "stream",
     "text": [
      "\n"
     ]
    },
    {
     "name": "stdout",
     "output_type": "stream",
     "text": [
      "\n",
      "      Epoch    GPU_mem   box_loss   cls_loss   dfl_loss  Instances       Size\n"
     ]
    },
    {
     "name": "stderr",
     "output_type": "stream",
     "text": [
      "       6/50        10G      1.293     0.6752     0.9011       2862        640: 100%|██████████| 5/5 [00:03<00:00,  1.39it/s]\n",
      "                 Class     Images  Instances      Box(P          R      mAP50  mAP50-95): 100%|██████████| 1/1 [00:00<00:00,  2.24it/s]"
     ]
    },
    {
     "name": "stdout",
     "output_type": "stream",
     "text": [
      "                   all         16       3135      0.514       0.58      0.417      0.234\n"
     ]
    },
    {
     "name": "stderr",
     "output_type": "stream",
     "text": [
      "\n"
     ]
    },
    {
     "name": "stdout",
     "output_type": "stream",
     "text": [
      "\n",
      "      Epoch    GPU_mem   box_loss   cls_loss   dfl_loss  Instances       Size\n"
     ]
    },
    {
     "name": "stderr",
     "output_type": "stream",
     "text": [
      "       7/50      8.36G      1.144     0.5854     0.8914       1781        640: 100%|██████████| 5/5 [00:01<00:00,  3.12it/s]\n",
      "                 Class     Images  Instances      Box(P          R      mAP50  mAP50-95): 100%|██████████| 1/1 [00:00<00:00,  4.24it/s]"
     ]
    },
    {
     "name": "stdout",
     "output_type": "stream",
     "text": [
      "                   all         16       3135      0.514       0.58      0.417      0.234\n"
     ]
    },
    {
     "name": "stderr",
     "output_type": "stream",
     "text": [
      "\n"
     ]
    },
    {
     "name": "stdout",
     "output_type": "stream",
     "text": [
      "\n",
      "      Epoch    GPU_mem   box_loss   cls_loss   dfl_loss  Instances       Size\n"
     ]
    },
    {
     "name": "stderr",
     "output_type": "stream",
     "text": [
      "       8/50      9.58G      1.284     0.6032     0.8944       2151        640: 100%|██████████| 5/5 [00:03<00:00,  1.60it/s]\n",
      "                 Class     Images  Instances      Box(P          R      mAP50  mAP50-95): 100%|██████████| 1/1 [00:00<00:00,  4.41it/s]"
     ]
    },
    {
     "name": "stdout",
     "output_type": "stream",
     "text": [
      "                   all         16       3135      0.514       0.58      0.417      0.234\n"
     ]
    },
    {
     "name": "stderr",
     "output_type": "stream",
     "text": [
      "\n"
     ]
    },
    {
     "name": "stdout",
     "output_type": "stream",
     "text": [
      "\n",
      "      Epoch    GPU_mem   box_loss   cls_loss   dfl_loss  Instances       Size\n"
     ]
    },
    {
     "name": "stderr",
     "output_type": "stream",
     "text": [
      "       9/50      8.91G      1.243      0.602     0.8978       2003        640: 100%|██████████| 5/5 [00:02<00:00,  2.15it/s]\n",
      "                 Class     Images  Instances      Box(P          R      mAP50  mAP50-95): 100%|██████████| 1/1 [00:00<00:00,  2.12it/s]"
     ]
    },
    {
     "name": "stdout",
     "output_type": "stream",
     "text": [
      "                   all         16       3135      0.514       0.58      0.417      0.234\n"
     ]
    },
    {
     "name": "stderr",
     "output_type": "stream",
     "text": [
      "\n"
     ]
    },
    {
     "name": "stdout",
     "output_type": "stream",
     "text": [
      "\n",
      "      Epoch    GPU_mem   box_loss   cls_loss   dfl_loss  Instances       Size\n"
     ]
    },
    {
     "name": "stderr",
     "output_type": "stream",
     "text": [
      "      10/50      9.12G      1.245      0.634     0.8993       2208        640: 100%|██████████| 5/5 [00:02<00:00,  1.98it/s]\n",
      "                 Class     Images  Instances      Box(P          R      mAP50  mAP50-95): 100%|██████████| 1/1 [00:00<00:00,  1.93it/s]"
     ]
    },
    {
     "name": "stdout",
     "output_type": "stream",
     "text": [
      "                   all         16       3135      0.514       0.58      0.417      0.234\n"
     ]
    },
    {
     "name": "stderr",
     "output_type": "stream",
     "text": [
      "\n"
     ]
    },
    {
     "name": "stdout",
     "output_type": "stream",
     "text": [
      "\n",
      "      Epoch    GPU_mem   box_loss   cls_loss   dfl_loss  Instances       Size\n"
     ]
    },
    {
     "name": "stderr",
     "output_type": "stream",
     "text": [
      "      11/50      9.13G      1.378     0.6259     0.9061       2011        640: 100%|██████████| 5/5 [00:02<00:00,  2.21it/s]\n",
      "                 Class     Images  Instances      Box(P          R      mAP50  mAP50-95): 100%|██████████| 1/1 [00:00<00:00,  2.41it/s]"
     ]
    },
    {
     "name": "stdout",
     "output_type": "stream",
     "text": [
      "                   all         16       3135      0.911       0.61      0.703      0.394\n"
     ]
    },
    {
     "name": "stderr",
     "output_type": "stream",
     "text": [
      "\n"
     ]
    },
    {
     "name": "stdout",
     "output_type": "stream",
     "text": [
      "\n",
      "      Epoch    GPU_mem   box_loss   cls_loss   dfl_loss  Instances       Size\n"
     ]
    },
    {
     "name": "stderr",
     "output_type": "stream",
     "text": [
      "      12/50      8.76G      1.131      0.582     0.8822       1734        640: 100%|██████████| 5/5 [00:01<00:00,  2.88it/s]\n",
      "                 Class     Images  Instances      Box(P          R      mAP50  mAP50-95): 100%|██████████| 1/1 [00:00<00:00,  4.49it/s]"
     ]
    },
    {
     "name": "stdout",
     "output_type": "stream",
     "text": [
      "                   all         16       3135      0.935      0.676      0.755      0.477\n"
     ]
    },
    {
     "name": "stderr",
     "output_type": "stream",
     "text": [
      "\n"
     ]
    },
    {
     "name": "stdout",
     "output_type": "stream",
     "text": [
      "\n",
      "      Epoch    GPU_mem   box_loss   cls_loss   dfl_loss  Instances       Size\n"
     ]
    },
    {
     "name": "stderr",
     "output_type": "stream",
     "text": [
      "      13/50      8.92G      1.106     0.5482     0.8857       1674        640: 100%|██████████| 5/5 [00:02<00:00,  2.30it/s]\n",
      "                 Class     Images  Instances      Box(P          R      mAP50  mAP50-95): 100%|██████████| 1/1 [00:00<00:00,  2.58it/s]"
     ]
    },
    {
     "name": "stdout",
     "output_type": "stream",
     "text": [
      "                   all         16       3135      0.731      0.697       0.61      0.357\n"
     ]
    },
    {
     "name": "stderr",
     "output_type": "stream",
     "text": [
      "\n"
     ]
    },
    {
     "name": "stdout",
     "output_type": "stream",
     "text": [
      "\n",
      "      Epoch    GPU_mem   box_loss   cls_loss   dfl_loss  Instances       Size\n"
     ]
    },
    {
     "name": "stderr",
     "output_type": "stream",
     "text": [
      "      14/50      9.73G      1.238     0.5735     0.8879       3193        640: 100%|██████████| 5/5 [00:02<00:00,  1.71it/s]\n",
      "                 Class     Images  Instances      Box(P          R      mAP50  mAP50-95): 100%|██████████| 1/1 [00:00<00:00,  3.57it/s]"
     ]
    },
    {
     "name": "stdout",
     "output_type": "stream",
     "text": [
      "                   all         16       3135      0.731      0.697       0.61      0.357\n"
     ]
    },
    {
     "name": "stderr",
     "output_type": "stream",
     "text": [
      "\n"
     ]
    },
    {
     "name": "stdout",
     "output_type": "stream",
     "text": [
      "\n",
      "      Epoch    GPU_mem   box_loss   cls_loss   dfl_loss  Instances       Size\n"
     ]
    },
    {
     "name": "stderr",
     "output_type": "stream",
     "text": [
      "      15/50      9.39G      1.212     0.5589     0.8766       1931        640: 100%|██████████| 5/5 [00:02<00:00,  1.73it/s]\n",
      "                 Class     Images  Instances      Box(P          R      mAP50  mAP50-95): 100%|██████████| 1/1 [00:00<00:00,  1.69it/s]"
     ]
    },
    {
     "name": "stdout",
     "output_type": "stream",
     "text": [
      "                   all         16       3135      0.746       0.78      0.679      0.427\n"
     ]
    },
    {
     "name": "stderr",
     "output_type": "stream",
     "text": [
      "\n"
     ]
    },
    {
     "name": "stdout",
     "output_type": "stream",
     "text": [
      "\n",
      "      Epoch    GPU_mem   box_loss   cls_loss   dfl_loss  Instances       Size\n"
     ]
    },
    {
     "name": "stderr",
     "output_type": "stream",
     "text": [
      "      16/50      9.74G      1.078     0.5112     0.8697       2108        640: 100%|██████████| 5/5 [00:03<00:00,  1.66it/s]\n",
      "                 Class     Images  Instances      Box(P          R      mAP50  mAP50-95): 100%|██████████| 1/1 [00:00<00:00,  2.19it/s]"
     ]
    },
    {
     "name": "stdout",
     "output_type": "stream",
     "text": [
      "                   all         16       3135       0.79      0.829      0.732      0.416\n"
     ]
    },
    {
     "name": "stderr",
     "output_type": "stream",
     "text": [
      "\n"
     ]
    },
    {
     "name": "stdout",
     "output_type": "stream",
     "text": [
      "\n",
      "      Epoch    GPU_mem   box_loss   cls_loss   dfl_loss  Instances       Size\n"
     ]
    },
    {
     "name": "stderr",
     "output_type": "stream",
     "text": [
      "      17/50      10.4G      1.217     0.5258     0.8729       2743        640: 100%|██████████| 5/5 [00:03<00:00,  1.37it/s]\n",
      "                 Class     Images  Instances      Box(P          R      mAP50  mAP50-95): 100%|██████████| 1/1 [00:00<00:00,  1.82it/s]"
     ]
    },
    {
     "name": "stdout",
     "output_type": "stream",
     "text": [
      "                   all         16       3135      0.879      0.846       0.81      0.521\n"
     ]
    },
    {
     "name": "stderr",
     "output_type": "stream",
     "text": [
      "\n"
     ]
    },
    {
     "name": "stdout",
     "output_type": "stream",
     "text": [
      "\n",
      "      Epoch    GPU_mem   box_loss   cls_loss   dfl_loss  Instances       Size\n"
     ]
    },
    {
     "name": "stderr",
     "output_type": "stream",
     "text": [
      "      18/50      9.55G      1.371     0.5631     0.8951       2258        640: 100%|██████████| 5/5 [00:05<00:00,  1.11s/it]\n",
      "                 Class     Images  Instances      Box(P          R      mAP50  mAP50-95): 100%|██████████| 1/1 [00:06<00:00,  6.50s/it]"
     ]
    },
    {
     "name": "stdout",
     "output_type": "stream",
     "text": [
      "                   all         16       3135      0.879      0.846       0.81      0.521\n"
     ]
    },
    {
     "name": "stderr",
     "output_type": "stream",
     "text": [
      "\n"
     ]
    },
    {
     "name": "stdout",
     "output_type": "stream",
     "text": [
      "\n",
      "      Epoch    GPU_mem   box_loss   cls_loss   dfl_loss  Instances       Size\n"
     ]
    },
    {
     "name": "stderr",
     "output_type": "stream",
     "text": [
      "      19/50      9.51G      1.239     0.5551     0.8846       2939        640: 100%|██████████| 5/5 [00:07<00:00,  1.47s/it]\n",
      "                 Class     Images  Instances      Box(P          R      mAP50  mAP50-95): 100%|██████████| 1/1 [00:07<00:00,  7.26s/it]"
     ]
    },
    {
     "name": "stdout",
     "output_type": "stream",
     "text": [
      "                   all         16       3135      0.919      0.848      0.858      0.548\n"
     ]
    },
    {
     "name": "stderr",
     "output_type": "stream",
     "text": [
      "\n"
     ]
    },
    {
     "name": "stdout",
     "output_type": "stream",
     "text": [
      "\n",
      "      Epoch    GPU_mem   box_loss   cls_loss   dfl_loss  Instances       Size\n"
     ]
    },
    {
     "name": "stderr",
     "output_type": "stream",
     "text": [
      "      20/50      9.36G      1.197     0.5366     0.8734       2422        640: 100%|██████████| 5/5 [00:04<00:00,  1.06it/s]\n",
      "                 Class     Images  Instances      Box(P          R      mAP50  mAP50-95): 100%|██████████| 1/1 [00:05<00:00,  5.84s/it]"
     ]
    },
    {
     "name": "stdout",
     "output_type": "stream",
     "text": [
      "                   all         16       3135       0.94      0.854      0.876      0.497\n"
     ]
    },
    {
     "name": "stderr",
     "output_type": "stream",
     "text": [
      "\n"
     ]
    },
    {
     "name": "stdout",
     "output_type": "stream",
     "text": [
      "\n",
      "      Epoch    GPU_mem   box_loss   cls_loss   dfl_loss  Instances       Size\n"
     ]
    },
    {
     "name": "stderr",
     "output_type": "stream",
     "text": [
      "      21/50      10.2G      1.145     0.5284     0.8705       2585        640: 100%|██████████| 5/5 [00:04<00:00,  1.20it/s]\n",
      "                 Class     Images  Instances      Box(P          R      mAP50  mAP50-95): 100%|██████████| 1/1 [00:06<00:00,  6.43s/it]"
     ]
    },
    {
     "name": "stdout",
     "output_type": "stream",
     "text": [
      "                   all         16       3135       0.94      0.854      0.876      0.497\n"
     ]
    },
    {
     "name": "stderr",
     "output_type": "stream",
     "text": [
      "\n"
     ]
    },
    {
     "name": "stdout",
     "output_type": "stream",
     "text": [
      "\n",
      "      Epoch    GPU_mem   box_loss   cls_loss   dfl_loss  Instances       Size\n"
     ]
    },
    {
     "name": "stderr",
     "output_type": "stream",
     "text": [
      "      22/50      9.32G      1.193     0.5225     0.8724       2111        640: 100%|██████████| 5/5 [00:06<00:00,  1.37s/it]\n",
      "                 Class     Images  Instances      Box(P          R      mAP50  mAP50-95): 100%|██████████| 1/1 [00:01<00:00,  1.09s/it]"
     ]
    },
    {
     "name": "stdout",
     "output_type": "stream",
     "text": [
      "                   all         16       3135      0.961      0.848      0.897        0.5\n"
     ]
    },
    {
     "name": "stderr",
     "output_type": "stream",
     "text": [
      "\n"
     ]
    },
    {
     "name": "stdout",
     "output_type": "stream",
     "text": [
      "\n",
      "      Epoch    GPU_mem   box_loss   cls_loss   dfl_loss  Instances       Size\n"
     ]
    },
    {
     "name": "stderr",
     "output_type": "stream",
     "text": [
      "      23/50      9.11G      1.079     0.5161     0.8659       2382        640: 100%|██████████| 5/5 [00:03<00:00,  1.51it/s]\n",
      "                 Class     Images  Instances      Box(P          R      mAP50  mAP50-95): 100%|██████████| 1/1 [00:00<00:00,  1.71it/s]"
     ]
    },
    {
     "name": "stdout",
     "output_type": "stream",
     "text": [
      "                   all         16       3135      0.967      0.853      0.891      0.604\n"
     ]
    },
    {
     "name": "stderr",
     "output_type": "stream",
     "text": [
      "\n"
     ]
    },
    {
     "name": "stdout",
     "output_type": "stream",
     "text": [
      "\n",
      "      Epoch    GPU_mem   box_loss   cls_loss   dfl_loss  Instances       Size\n"
     ]
    },
    {
     "name": "stderr",
     "output_type": "stream",
     "text": [
      "      24/50      9.26G      1.107     0.5112     0.8707       2397        640: 100%|██████████| 5/5 [00:03<00:00,  1.50it/s]\n",
      "                 Class     Images  Instances      Box(P          R      mAP50  mAP50-95): 100%|██████████| 1/1 [00:00<00:00,  1.81it/s]"
     ]
    },
    {
     "name": "stdout",
     "output_type": "stream",
     "text": [
      "                   all         16       3135      0.967      0.853      0.891      0.604\n"
     ]
    },
    {
     "name": "stderr",
     "output_type": "stream",
     "text": [
      "\n"
     ]
    },
    {
     "name": "stdout",
     "output_type": "stream",
     "text": [
      "\n",
      "      Epoch    GPU_mem   box_loss   cls_loss   dfl_loss  Instances       Size\n"
     ]
    },
    {
     "name": "stderr",
     "output_type": "stream",
     "text": [
      "      25/50      9.09G      1.091     0.5006     0.8679       2029        640: 100%|██████████| 5/5 [00:02<00:00,  2.11it/s]\n",
      "                 Class     Images  Instances      Box(P          R      mAP50  mAP50-95): 100%|██████████| 1/1 [00:00<00:00,  2.24it/s]"
     ]
    },
    {
     "name": "stdout",
     "output_type": "stream",
     "text": [
      "                   all         16       3135      0.991      0.859      0.909      0.619\n"
     ]
    },
    {
     "name": "stderr",
     "output_type": "stream",
     "text": [
      "\n"
     ]
    },
    {
     "name": "stdout",
     "output_type": "stream",
     "text": [
      "\n",
      "      Epoch    GPU_mem   box_loss   cls_loss   dfl_loss  Instances       Size\n"
     ]
    },
    {
     "name": "stderr",
     "output_type": "stream",
     "text": [
      "      26/50      9.04G     0.9817     0.4894     0.8616       2454        640: 100%|██████████| 5/5 [00:01<00:00,  2.67it/s]\n",
      "                 Class     Images  Instances      Box(P          R      mAP50  mAP50-95): 100%|██████████| 1/1 [00:00<00:00,  2.65it/s]"
     ]
    },
    {
     "name": "stdout",
     "output_type": "stream",
     "text": [
      "                   all         16       3135      0.991      0.859      0.909      0.619\n"
     ]
    },
    {
     "name": "stderr",
     "output_type": "stream",
     "text": [
      "\n"
     ]
    },
    {
     "name": "stdout",
     "output_type": "stream",
     "text": [
      "\n",
      "      Epoch    GPU_mem   box_loss   cls_loss   dfl_loss  Instances       Size\n"
     ]
    },
    {
     "name": "stderr",
     "output_type": "stream",
     "text": [
      "      27/50      9.29G      1.157     0.5297     0.8698       2481        640: 100%|██████████| 5/5 [00:01<00:00,  3.05it/s]\n",
      "                 Class     Images  Instances      Box(P          R      mAP50  mAP50-95): 100%|██████████| 1/1 [00:00<00:00,  4.18it/s]"
     ]
    },
    {
     "name": "stdout",
     "output_type": "stream",
     "text": [
      "                   all         16       3135      0.985      0.864      0.909      0.526\n"
     ]
    },
    {
     "name": "stderr",
     "output_type": "stream",
     "text": [
      "\n"
     ]
    },
    {
     "name": "stdout",
     "output_type": "stream",
     "text": [
      "\n",
      "      Epoch    GPU_mem   box_loss   cls_loss   dfl_loss  Instances       Size\n"
     ]
    },
    {
     "name": "stderr",
     "output_type": "stream",
     "text": [
      "      28/50      9.56G      1.186     0.5248     0.8693       2377        640: 100%|██████████| 5/5 [00:01<00:00,  2.92it/s]\n",
      "                 Class     Images  Instances      Box(P          R      mAP50  mAP50-95): 100%|██████████| 1/1 [00:00<00:00,  3.86it/s]"
     ]
    },
    {
     "name": "stdout",
     "output_type": "stream",
     "text": [
      "                   all         16       3135      0.983      0.857      0.909      0.537\n"
     ]
    },
    {
     "name": "stderr",
     "output_type": "stream",
     "text": [
      "\n"
     ]
    },
    {
     "name": "stdout",
     "output_type": "stream",
     "text": [
      "\n",
      "      Epoch    GPU_mem   box_loss   cls_loss   dfl_loss  Instances       Size\n"
     ]
    },
    {
     "name": "stderr",
     "output_type": "stream",
     "text": [
      "      29/50      8.81G      1.181      0.531     0.8723       2313        640: 100%|██████████| 5/5 [00:01<00:00,  3.20it/s]\n",
      "                 Class     Images  Instances      Box(P          R      mAP50  mAP50-95): 100%|██████████| 1/1 [00:00<00:00,  4.03it/s]"
     ]
    },
    {
     "name": "stdout",
     "output_type": "stream",
     "text": [
      "                   all         16       3135      0.983      0.857      0.909      0.537\n"
     ]
    },
    {
     "name": "stderr",
     "output_type": "stream",
     "text": [
      "\n"
     ]
    },
    {
     "name": "stdout",
     "output_type": "stream",
     "text": [
      "\n",
      "      Epoch    GPU_mem   box_loss   cls_loss   dfl_loss  Instances       Size\n"
     ]
    },
    {
     "name": "stderr",
     "output_type": "stream",
     "text": [
      "      30/50      10.5G      1.109     0.5211     0.8642       2315        640: 100%|██████████| 5/5 [00:02<00:00,  2.08it/s]\n",
      "                 Class     Images  Instances      Box(P          R      mAP50  mAP50-95): 100%|██████████| 1/1 [00:00<00:00,  4.10it/s]"
     ]
    },
    {
     "name": "stdout",
     "output_type": "stream",
     "text": [
      "                   all         16       3135       0.98      0.862       0.91       0.61\n"
     ]
    },
    {
     "name": "stderr",
     "output_type": "stream",
     "text": [
      "\n"
     ]
    },
    {
     "name": "stdout",
     "output_type": "stream",
     "text": [
      "\n",
      "      Epoch    GPU_mem   box_loss   cls_loss   dfl_loss  Instances       Size\n"
     ]
    },
    {
     "name": "stderr",
     "output_type": "stream",
     "text": [
      "      31/50      8.52G      1.027     0.4888     0.8547       2386        640: 100%|██████████| 5/5 [00:01<00:00,  3.08it/s]\n",
      "                 Class     Images  Instances      Box(P          R      mAP50  mAP50-95): 100%|██████████| 1/1 [00:00<00:00,  4.01it/s]"
     ]
    },
    {
     "name": "stdout",
     "output_type": "stream",
     "text": [
      "                   all         16       3135      0.988      0.863      0.911       0.61\n"
     ]
    },
    {
     "name": "stderr",
     "output_type": "stream",
     "text": [
      "\n"
     ]
    },
    {
     "name": "stdout",
     "output_type": "stream",
     "text": [
      "\n",
      "      Epoch    GPU_mem   box_loss   cls_loss   dfl_loss  Instances       Size\n"
     ]
    },
    {
     "name": "stderr",
     "output_type": "stream",
     "text": [
      "      32/50      10.5G      1.146      0.533     0.8633       2395        640: 100%|██████████| 5/5 [00:02<00:00,  2.11it/s]\n",
      "                 Class     Images  Instances      Box(P          R      mAP50  mAP50-95): 100%|██████████| 1/1 [00:00<00:00,  4.03it/s]"
     ]
    },
    {
     "name": "stdout",
     "output_type": "stream",
     "text": [
      "                   all         16       3135      0.988      0.863      0.911       0.61\n"
     ]
    },
    {
     "name": "stderr",
     "output_type": "stream",
     "text": [
      "\n"
     ]
    },
    {
     "name": "stdout",
     "output_type": "stream",
     "text": [
      "\n",
      "      Epoch    GPU_mem   box_loss   cls_loss   dfl_loss  Instances       Size\n"
     ]
    },
    {
     "name": "stderr",
     "output_type": "stream",
     "text": [
      "      33/50       9.4G      1.022       0.49     0.8591       2624        640: 100%|██████████| 5/5 [00:01<00:00,  3.13it/s]\n",
      "                 Class     Images  Instances      Box(P          R      mAP50  mAP50-95): 100%|██████████| 1/1 [00:00<00:00,  3.94it/s]"
     ]
    },
    {
     "name": "stdout",
     "output_type": "stream",
     "text": [
      "                   all         16       3135      0.988      0.863      0.911       0.63\n"
     ]
    },
    {
     "name": "stderr",
     "output_type": "stream",
     "text": [
      "\n"
     ]
    },
    {
     "name": "stdout",
     "output_type": "stream",
     "text": [
      "\n",
      "      Epoch    GPU_mem   box_loss   cls_loss   dfl_loss  Instances       Size\n"
     ]
    },
    {
     "name": "stderr",
     "output_type": "stream",
     "text": [
      "      34/50      9.73G      1.126     0.4914     0.8639       3329        640: 100%|██████████| 5/5 [00:01<00:00,  2.60it/s]\n",
      "                 Class     Images  Instances      Box(P          R      mAP50  mAP50-95): 100%|██████████| 1/1 [00:00<00:00,  4.18it/s]"
     ]
    },
    {
     "name": "stdout",
     "output_type": "stream",
     "text": [
      "                   all         16       3135      0.988      0.863      0.911       0.63\n"
     ]
    },
    {
     "name": "stderr",
     "output_type": "stream",
     "text": [
      "\n"
     ]
    },
    {
     "name": "stdout",
     "output_type": "stream",
     "text": [
      "\n",
      "      Epoch    GPU_mem   box_loss   cls_loss   dfl_loss  Instances       Size\n"
     ]
    },
    {
     "name": "stderr",
     "output_type": "stream",
     "text": [
      "      35/50      10.4G      1.069     0.5107      0.863       2266        640: 100%|██████████| 5/5 [00:02<00:00,  1.71it/s]\n",
      "                 Class     Images  Instances      Box(P          R      mAP50  mAP50-95): 100%|██████████| 1/1 [00:00<00:00,  2.95it/s]"
     ]
    },
    {
     "name": "stdout",
     "output_type": "stream",
     "text": [
      "                   all         16       3135      0.987      0.861      0.914      0.643\n"
     ]
    },
    {
     "name": "stderr",
     "output_type": "stream",
     "text": [
      "\n"
     ]
    },
    {
     "name": "stdout",
     "output_type": "stream",
     "text": [
      "\n",
      "      Epoch    GPU_mem   box_loss   cls_loss   dfl_loss  Instances       Size\n"
     ]
    },
    {
     "name": "stderr",
     "output_type": "stream",
     "text": [
      "      36/50      8.68G     0.9623     0.4903     0.8627       2806        640: 100%|██████████| 5/5 [00:05<00:00,  1.19s/it]\n",
      "                 Class     Images  Instances      Box(P          R      mAP50  mAP50-95): 100%|██████████| 1/1 [00:01<00:00,  1.31s/it]"
     ]
    },
    {
     "name": "stdout",
     "output_type": "stream",
     "text": [
      "                   all         16       3135      0.988      0.866      0.915      0.641\n"
     ]
    },
    {
     "name": "stderr",
     "output_type": "stream",
     "text": [
      "\n"
     ]
    },
    {
     "name": "stdout",
     "output_type": "stream",
     "text": [
      "\n",
      "      Epoch    GPU_mem   box_loss   cls_loss   dfl_loss  Instances       Size\n"
     ]
    },
    {
     "name": "stderr",
     "output_type": "stream",
     "text": [
      "      37/50      10.4G     0.9945      0.484     0.8526       2025        640: 100%|██████████| 5/5 [00:07<00:00,  1.51s/it]\n",
      "                 Class     Images  Instances      Box(P          R      mAP50  mAP50-95): 100%|██████████| 1/1 [00:08<00:00,  8.61s/it]"
     ]
    },
    {
     "name": "stdout",
     "output_type": "stream",
     "text": [
      "                   all         16       3135      0.988      0.866      0.915      0.641\n"
     ]
    },
    {
     "name": "stderr",
     "output_type": "stream",
     "text": [
      "\n"
     ]
    },
    {
     "name": "stdout",
     "output_type": "stream",
     "text": [
      "\n",
      "      Epoch    GPU_mem   box_loss   cls_loss   dfl_loss  Instances       Size\n"
     ]
    },
    {
     "name": "stderr",
     "output_type": "stream",
     "text": [
      "      38/50      10.6G      1.044     0.4747     0.8574       3031        640: 100%|██████████| 5/5 [00:11<00:00,  2.29s/it]\n",
      "                 Class     Images  Instances      Box(P          R      mAP50  mAP50-95): 100%|██████████| 1/1 [00:04<00:00,  4.28s/it]"
     ]
    },
    {
     "name": "stdout",
     "output_type": "stream",
     "text": [
      "                   all         16       3135      0.986      0.871      0.911      0.631\n"
     ]
    },
    {
     "name": "stderr",
     "output_type": "stream",
     "text": [
      "\n"
     ]
    },
    {
     "name": "stdout",
     "output_type": "stream",
     "text": [
      "\n",
      "      Epoch    GPU_mem   box_loss   cls_loss   dfl_loss  Instances       Size\n"
     ]
    },
    {
     "name": "stderr",
     "output_type": "stream",
     "text": [
      "      39/50       9.5G     0.9408     0.4651     0.8543       2385        640: 100%|██████████| 5/5 [00:03<00:00,  1.66it/s]\n",
      "                 Class     Images  Instances      Box(P          R      mAP50  mAP50-95): 100%|██████████| 1/1 [00:03<00:00,  3.75s/it]"
     ]
    },
    {
     "name": "stdout",
     "output_type": "stream",
     "text": [
      "                   all         16       3135      0.988      0.871      0.911      0.625\n"
     ]
    },
    {
     "name": "stderr",
     "output_type": "stream",
     "text": [
      "\n"
     ]
    },
    {
     "name": "stdout",
     "output_type": "stream",
     "text": [
      "\n",
      "      Epoch    GPU_mem   box_loss   cls_loss   dfl_loss  Instances       Size\n"
     ]
    },
    {
     "name": "stderr",
     "output_type": "stream",
     "text": [
      "      40/50      9.38G     0.9518     0.4512     0.8535       1813        640: 100%|██████████| 5/5 [00:10<00:00,  2.03s/it]\n",
      "                 Class     Images  Instances      Box(P          R      mAP50  mAP50-95): 100%|██████████| 1/1 [00:00<00:00,  3.16it/s]"
     ]
    },
    {
     "name": "stdout",
     "output_type": "stream",
     "text": [
      "                   all         16       3135      0.988      0.871      0.911      0.625\n"
     ]
    },
    {
     "name": "stderr",
     "output_type": "stream",
     "text": [
      "\n"
     ]
    },
    {
     "name": "stdout",
     "output_type": "stream",
     "text": [
      "Closing dataloader mosaic\n",
      "\n",
      "      Epoch    GPU_mem   box_loss   cls_loss   dfl_loss  Instances       Size\n"
     ]
    },
    {
     "name": "stderr",
     "output_type": "stream",
     "text": [
      "      41/50      8.02G      1.025     0.5267     0.8353       1435        640: 100%|██████████| 5/5 [00:02<00:00,  2.31it/s]\n",
      "                 Class     Images  Instances      Box(P          R      mAP50  mAP50-95): 100%|██████████| 1/1 [00:00<00:00,  2.42it/s]"
     ]
    },
    {
     "name": "stdout",
     "output_type": "stream",
     "text": [
      "                   all         16       3135      0.985      0.874      0.911      0.632\n"
     ]
    },
    {
     "name": "stderr",
     "output_type": "stream",
     "text": [
      "\n"
     ]
    },
    {
     "name": "stdout",
     "output_type": "stream",
     "text": [
      "\n",
      "      Epoch    GPU_mem   box_loss   cls_loss   dfl_loss  Instances       Size\n"
     ]
    },
    {
     "name": "stderr",
     "output_type": "stream",
     "text": [
      "      42/50      7.82G     0.9138     0.4576     0.8258       1387        640: 100%|██████████| 5/5 [00:01<00:00,  2.67it/s]\n",
      "                 Class     Images  Instances      Box(P          R      mAP50  mAP50-95): 100%|██████████| 1/1 [00:00<00:00,  3.84it/s]"
     ]
    },
    {
     "name": "stdout",
     "output_type": "stream",
     "text": [
      "                   all         16       3135      0.985      0.874      0.911      0.632\n"
     ]
    },
    {
     "name": "stderr",
     "output_type": "stream",
     "text": [
      "\n"
     ]
    },
    {
     "name": "stdout",
     "output_type": "stream",
     "text": [
      "\n",
      "      Epoch    GPU_mem   box_loss   cls_loss   dfl_loss  Instances       Size\n"
     ]
    },
    {
     "name": "stderr",
     "output_type": "stream",
     "text": [
      "      43/50      8.32G      1.039     0.5312      0.842       1363        640: 100%|██████████| 5/5 [00:01<00:00,  3.32it/s]\n",
      "                 Class     Images  Instances      Box(P          R      mAP50  mAP50-95): 100%|██████████| 1/1 [00:00<00:00,  4.07it/s]"
     ]
    },
    {
     "name": "stdout",
     "output_type": "stream",
     "text": [
      "                   all         16       3135      0.988      0.869      0.911      0.633\n"
     ]
    },
    {
     "name": "stderr",
     "output_type": "stream",
     "text": [
      "\n"
     ]
    },
    {
     "name": "stdout",
     "output_type": "stream",
     "text": [
      "\n",
      "      Epoch    GPU_mem   box_loss   cls_loss   dfl_loss  Instances       Size\n"
     ]
    },
    {
     "name": "stderr",
     "output_type": "stream",
     "text": [
      "      44/50      8.09G      1.037     0.4803      0.831       1232        640: 100%|██████████| 5/5 [00:01<00:00,  3.36it/s]\n",
      "                 Class     Images  Instances      Box(P          R      mAP50  mAP50-95): 100%|██████████| 1/1 [00:00<00:00,  3.81it/s]"
     ]
    },
    {
     "name": "stdout",
     "output_type": "stream",
     "text": [
      "                   all         16       3135      0.991      0.865      0.915      0.656\n"
     ]
    },
    {
     "name": "stderr",
     "output_type": "stream",
     "text": [
      "\n"
     ]
    },
    {
     "name": "stdout",
     "output_type": "stream",
     "text": [
      "\n",
      "      Epoch    GPU_mem   box_loss   cls_loss   dfl_loss  Instances       Size\n"
     ]
    },
    {
     "name": "stderr",
     "output_type": "stream",
     "text": [
      "      45/50      7.83G     0.9787     0.4769     0.8309       1172        640: 100%|██████████| 5/5 [00:01<00:00,  3.47it/s]\n",
      "                 Class     Images  Instances      Box(P          R      mAP50  mAP50-95): 100%|██████████| 1/1 [00:00<00:00,  4.04it/s]"
     ]
    },
    {
     "name": "stdout",
     "output_type": "stream",
     "text": [
      "                   all         16       3135      0.991      0.865      0.915      0.656\n"
     ]
    },
    {
     "name": "stderr",
     "output_type": "stream",
     "text": [
      "\n"
     ]
    },
    {
     "name": "stdout",
     "output_type": "stream",
     "text": [
      "\n",
      "      Epoch    GPU_mem   box_loss   cls_loss   dfl_loss  Instances       Size\n"
     ]
    },
    {
     "name": "stderr",
     "output_type": "stream",
     "text": [
      "      46/50      7.82G     0.9479     0.4651     0.8241       1481        640: 100%|██████████| 5/5 [00:01<00:00,  3.42it/s]\n",
      "                 Class     Images  Instances      Box(P          R      mAP50  mAP50-95): 100%|██████████| 1/1 [00:00<00:00,  3.95it/s]"
     ]
    },
    {
     "name": "stdout",
     "output_type": "stream",
     "text": [
      "                   all         16       3135      0.985      0.871      0.915      0.672\n"
     ]
    },
    {
     "name": "stderr",
     "output_type": "stream",
     "text": [
      "\n"
     ]
    },
    {
     "name": "stdout",
     "output_type": "stream",
     "text": [
      "\n",
      "      Epoch    GPU_mem   box_loss   cls_loss   dfl_loss  Instances       Size\n"
     ]
    },
    {
     "name": "stderr",
     "output_type": "stream",
     "text": [
      "      47/50      8.49G     0.9233     0.4629     0.8217       1630        640: 100%|██████████| 5/5 [00:01<00:00,  3.37it/s]\n",
      "                 Class     Images  Instances      Box(P          R      mAP50  mAP50-95): 100%|██████████| 1/1 [00:00<00:00,  4.03it/s]"
     ]
    },
    {
     "name": "stdout",
     "output_type": "stream",
     "text": [
      "                   all         16       3135      0.983      0.872      0.915       0.68\n"
     ]
    },
    {
     "name": "stderr",
     "output_type": "stream",
     "text": [
      "\n"
     ]
    },
    {
     "name": "stdout",
     "output_type": "stream",
     "text": [
      "\n",
      "      Epoch    GPU_mem   box_loss   cls_loss   dfl_loss  Instances       Size\n"
     ]
    },
    {
     "name": "stderr",
     "output_type": "stream",
     "text": [
      "      48/50      8.41G     0.9722     0.4603     0.8254       1454        640: 100%|██████████| 5/5 [00:01<00:00,  3.38it/s]\n",
      "                 Class     Images  Instances      Box(P          R      mAP50  mAP50-95): 100%|██████████| 1/1 [00:00<00:00,  4.04it/s]"
     ]
    },
    {
     "name": "stdout",
     "output_type": "stream",
     "text": [
      "                   all         16       3135      0.983      0.872      0.915       0.68\n"
     ]
    },
    {
     "name": "stderr",
     "output_type": "stream",
     "text": [
      "\n"
     ]
    },
    {
     "name": "stdout",
     "output_type": "stream",
     "text": [
      "\n",
      "      Epoch    GPU_mem   box_loss   cls_loss   dfl_loss  Instances       Size\n"
     ]
    },
    {
     "name": "stderr",
     "output_type": "stream",
     "text": [
      "      49/50      8.13G     0.9325     0.4649     0.8238       1527        640: 100%|██████████| 5/5 [00:01<00:00,  3.37it/s]\n",
      "                 Class     Images  Instances      Box(P          R      mAP50  mAP50-95): 100%|██████████| 1/1 [00:00<00:00,  3.96it/s]"
     ]
    },
    {
     "name": "stdout",
     "output_type": "stream",
     "text": [
      "                   all         16       3135      0.984      0.873      0.914      0.685\n"
     ]
    },
    {
     "name": "stderr",
     "output_type": "stream",
     "text": [
      "\n"
     ]
    },
    {
     "name": "stdout",
     "output_type": "stream",
     "text": [
      "\n",
      "      Epoch    GPU_mem   box_loss   cls_loss   dfl_loss  Instances       Size\n"
     ]
    },
    {
     "name": "stderr",
     "output_type": "stream",
     "text": [
      "      50/50      8.07G     0.9288     0.4427      0.824       1285        640: 100%|██████████| 5/5 [00:01<00:00,  3.48it/s]\n",
      "                 Class     Images  Instances      Box(P          R      mAP50  mAP50-95): 100%|██████████| 1/1 [00:00<00:00,  4.14it/s]"
     ]
    },
    {
     "name": "stdout",
     "output_type": "stream",
     "text": [
      "                   all         16       3135      0.984      0.873      0.914      0.685\n"
     ]
    },
    {
     "name": "stderr",
     "output_type": "stream",
     "text": [
      "\n"
     ]
    },
    {
     "name": "stdout",
     "output_type": "stream",
     "text": [
      "\n",
      "50 epochs completed in 0.132 hours.\n",
      "Optimizer stripped from runs\\detect\\train\\weights\\last.pt, 136.7MB\n",
      "Optimizer stripped from runs\\detect\\train\\weights\\best.pt, 136.7MB\n",
      "\n",
      "Validating runs\\detect\\train\\weights\\best.pt...\n",
      "Ultralytics YOLOv8.2.40  Python-3.9.13 torch-2.0.0+cu118 CUDA:0 (NVIDIA GeForce RTX 4070, 12282MiB)\n",
      "Model summary (fused): 268 layers, 68125494 parameters, 0 gradients, 257.4 GFLOPs\n"
     ]
    },
    {
     "name": "stderr",
     "output_type": "stream",
     "text": [
      "                 Class     Images  Instances      Box(P          R      mAP50  mAP50-95): 100%|██████████| 1/1 [00:00<00:00,  1.38it/s]\n"
     ]
    },
    {
     "name": "stdout",
     "output_type": "stream",
     "text": [
      "                   all         16       3135      0.983      0.873      0.914      0.685\n",
      "            annotation         16       3135      0.983      0.873      0.914      0.685\n",
      "Speed: 0.1ms preprocess, 8.8ms inference, 0.0ms loss, 0.8ms postprocess per image\n",
      "Results saved to \u001b[1mruns\\detect\\train\u001b[0m\n"
     ]
    },
    {
     "data": {
      "text/plain": [
       "ultralytics.utils.metrics.DetMetrics object with attributes:\n",
       "\n",
       "ap_class_index: array([1])\n",
       "box: ultralytics.utils.metrics.Metric object\n",
       "confusion_matrix: <ultralytics.utils.metrics.ConfusionMatrix object at 0x00000246A9903A30>\n",
       "curves: ['Precision-Recall(B)', 'F1-Confidence(B)', 'Precision-Confidence(B)', 'Recall-Confidence(B)']\n",
       "curves_results: [[array([          0,    0.001001,    0.002002,    0.003003,    0.004004,    0.005005,    0.006006,    0.007007,    0.008008,    0.009009,     0.01001,    0.011011,    0.012012,    0.013013,    0.014014,    0.015015,    0.016016,    0.017017,    0.018018,    0.019019,     0.02002,    0.021021,    0.022022,    0.023023,\n",
       "          0.024024,    0.025025,    0.026026,    0.027027,    0.028028,    0.029029,     0.03003,    0.031031,    0.032032,    0.033033,    0.034034,    0.035035,    0.036036,    0.037037,    0.038038,    0.039039,     0.04004,    0.041041,    0.042042,    0.043043,    0.044044,    0.045045,    0.046046,    0.047047,\n",
       "          0.048048,    0.049049,     0.05005,    0.051051,    0.052052,    0.053053,    0.054054,    0.055055,    0.056056,    0.057057,    0.058058,    0.059059,     0.06006,    0.061061,    0.062062,    0.063063,    0.064064,    0.065065,    0.066066,    0.067067,    0.068068,    0.069069,     0.07007,    0.071071,\n",
       "          0.072072,    0.073073,    0.074074,    0.075075,    0.076076,    0.077077,    0.078078,    0.079079,     0.08008,    0.081081,    0.082082,    0.083083,    0.084084,    0.085085,    0.086086,    0.087087,    0.088088,    0.089089,     0.09009,    0.091091,    0.092092,    0.093093,    0.094094,    0.095095,\n",
       "          0.096096,    0.097097,    0.098098,    0.099099,      0.1001,      0.1011,      0.1021,      0.1031,      0.1041,     0.10511,     0.10611,     0.10711,     0.10811,     0.10911,     0.11011,     0.11111,     0.11211,     0.11311,     0.11411,     0.11512,     0.11612,     0.11712,     0.11812,     0.11912,\n",
       "           0.12012,     0.12112,     0.12212,     0.12312,     0.12412,     0.12513,     0.12613,     0.12713,     0.12813,     0.12913,     0.13013,     0.13113,     0.13213,     0.13313,     0.13413,     0.13514,     0.13614,     0.13714,     0.13814,     0.13914,     0.14014,     0.14114,     0.14214,     0.14314,\n",
       "           0.14414,     0.14515,     0.14615,     0.14715,     0.14815,     0.14915,     0.15015,     0.15115,     0.15215,     0.15315,     0.15415,     0.15516,     0.15616,     0.15716,     0.15816,     0.15916,     0.16016,     0.16116,     0.16216,     0.16316,     0.16416,     0.16517,     0.16617,     0.16717,\n",
       "           0.16817,     0.16917,     0.17017,     0.17117,     0.17217,     0.17317,     0.17417,     0.17518,     0.17618,     0.17718,     0.17818,     0.17918,     0.18018,     0.18118,     0.18218,     0.18318,     0.18418,     0.18519,     0.18619,     0.18719,     0.18819,     0.18919,     0.19019,     0.19119,\n",
       "           0.19219,     0.19319,     0.19419,      0.1952,      0.1962,      0.1972,      0.1982,      0.1992,      0.2002,      0.2012,      0.2022,      0.2032,      0.2042,     0.20521,     0.20621,     0.20721,     0.20821,     0.20921,     0.21021,     0.21121,     0.21221,     0.21321,     0.21421,     0.21522,\n",
       "           0.21622,     0.21722,     0.21822,     0.21922,     0.22022,     0.22122,     0.22222,     0.22322,     0.22422,     0.22523,     0.22623,     0.22723,     0.22823,     0.22923,     0.23023,     0.23123,     0.23223,     0.23323,     0.23423,     0.23524,     0.23624,     0.23724,     0.23824,     0.23924,\n",
       "           0.24024,     0.24124,     0.24224,     0.24324,     0.24424,     0.24525,     0.24625,     0.24725,     0.24825,     0.24925,     0.25025,     0.25125,     0.25225,     0.25325,     0.25425,     0.25526,     0.25626,     0.25726,     0.25826,     0.25926,     0.26026,     0.26126,     0.26226,     0.26326,\n",
       "           0.26426,     0.26527,     0.26627,     0.26727,     0.26827,     0.26927,     0.27027,     0.27127,     0.27227,     0.27327,     0.27427,     0.27528,     0.27628,     0.27728,     0.27828,     0.27928,     0.28028,     0.28128,     0.28228,     0.28328,     0.28428,     0.28529,     0.28629,     0.28729,\n",
       "           0.28829,     0.28929,     0.29029,     0.29129,     0.29229,     0.29329,     0.29429,      0.2953,      0.2963,      0.2973,      0.2983,      0.2993,      0.3003,      0.3013,      0.3023,      0.3033,      0.3043,     0.30531,     0.30631,     0.30731,     0.30831,     0.30931,     0.31031,     0.31131,\n",
       "           0.31231,     0.31331,     0.31431,     0.31532,     0.31632,     0.31732,     0.31832,     0.31932,     0.32032,     0.32132,     0.32232,     0.32332,     0.32432,     0.32533,     0.32633,     0.32733,     0.32833,     0.32933,     0.33033,     0.33133,     0.33233,     0.33333,     0.33433,     0.33534,\n",
       "           0.33634,     0.33734,     0.33834,     0.33934,     0.34034,     0.34134,     0.34234,     0.34334,     0.34434,     0.34535,     0.34635,     0.34735,     0.34835,     0.34935,     0.35035,     0.35135,     0.35235,     0.35335,     0.35435,     0.35536,     0.35636,     0.35736,     0.35836,     0.35936,\n",
       "           0.36036,     0.36136,     0.36236,     0.36336,     0.36436,     0.36537,     0.36637,     0.36737,     0.36837,     0.36937,     0.37037,     0.37137,     0.37237,     0.37337,     0.37437,     0.37538,     0.37638,     0.37738,     0.37838,     0.37938,     0.38038,     0.38138,     0.38238,     0.38338,\n",
       "           0.38438,     0.38539,     0.38639,     0.38739,     0.38839,     0.38939,     0.39039,     0.39139,     0.39239,     0.39339,     0.39439,      0.3954,      0.3964,      0.3974,      0.3984,      0.3994,      0.4004,      0.4014,      0.4024,      0.4034,      0.4044,     0.40541,     0.40641,     0.40741,\n",
       "           0.40841,     0.40941,     0.41041,     0.41141,     0.41241,     0.41341,     0.41441,     0.41542,     0.41642,     0.41742,     0.41842,     0.41942,     0.42042,     0.42142,     0.42242,     0.42342,     0.42442,     0.42543,     0.42643,     0.42743,     0.42843,     0.42943,     0.43043,     0.43143,\n",
       "           0.43243,     0.43343,     0.43443,     0.43544,     0.43644,     0.43744,     0.43844,     0.43944,     0.44044,     0.44144,     0.44244,     0.44344,     0.44444,     0.44545,     0.44645,     0.44745,     0.44845,     0.44945,     0.45045,     0.45145,     0.45245,     0.45345,     0.45445,     0.45546,\n",
       "           0.45646,     0.45746,     0.45846,     0.45946,     0.46046,     0.46146,     0.46246,     0.46346,     0.46446,     0.46547,     0.46647,     0.46747,     0.46847,     0.46947,     0.47047,     0.47147,     0.47247,     0.47347,     0.47447,     0.47548,     0.47648,     0.47748,     0.47848,     0.47948,\n",
       "           0.48048,     0.48148,     0.48248,     0.48348,     0.48448,     0.48549,     0.48649,     0.48749,     0.48849,     0.48949,     0.49049,     0.49149,     0.49249,     0.49349,     0.49449,      0.4955,      0.4965,      0.4975,      0.4985,      0.4995,      0.5005,      0.5015,      0.5025,      0.5035,\n",
       "            0.5045,     0.50551,     0.50651,     0.50751,     0.50851,     0.50951,     0.51051,     0.51151,     0.51251,     0.51351,     0.51451,     0.51552,     0.51652,     0.51752,     0.51852,     0.51952,     0.52052,     0.52152,     0.52252,     0.52352,     0.52452,     0.52553,     0.52653,     0.52753,\n",
       "           0.52853,     0.52953,     0.53053,     0.53153,     0.53253,     0.53353,     0.53453,     0.53554,     0.53654,     0.53754,     0.53854,     0.53954,     0.54054,     0.54154,     0.54254,     0.54354,     0.54454,     0.54555,     0.54655,     0.54755,     0.54855,     0.54955,     0.55055,     0.55155,\n",
       "           0.55255,     0.55355,     0.55455,     0.55556,     0.55656,     0.55756,     0.55856,     0.55956,     0.56056,     0.56156,     0.56256,     0.56356,     0.56456,     0.56557,     0.56657,     0.56757,     0.56857,     0.56957,     0.57057,     0.57157,     0.57257,     0.57357,     0.57457,     0.57558,\n",
       "           0.57658,     0.57758,     0.57858,     0.57958,     0.58058,     0.58158,     0.58258,     0.58358,     0.58458,     0.58559,     0.58659,     0.58759,     0.58859,     0.58959,     0.59059,     0.59159,     0.59259,     0.59359,     0.59459,      0.5956,      0.5966,      0.5976,      0.5986,      0.5996,\n",
       "            0.6006,      0.6016,      0.6026,      0.6036,      0.6046,     0.60561,     0.60661,     0.60761,     0.60861,     0.60961,     0.61061,     0.61161,     0.61261,     0.61361,     0.61461,     0.61562,     0.61662,     0.61762,     0.61862,     0.61962,     0.62062,     0.62162,     0.62262,     0.62362,\n",
       "           0.62462,     0.62563,     0.62663,     0.62763,     0.62863,     0.62963,     0.63063,     0.63163,     0.63263,     0.63363,     0.63463,     0.63564,     0.63664,     0.63764,     0.63864,     0.63964,     0.64064,     0.64164,     0.64264,     0.64364,     0.64464,     0.64565,     0.64665,     0.64765,\n",
       "           0.64865,     0.64965,     0.65065,     0.65165,     0.65265,     0.65365,     0.65465,     0.65566,     0.65666,     0.65766,     0.65866,     0.65966,     0.66066,     0.66166,     0.66266,     0.66366,     0.66466,     0.66567,     0.66667,     0.66767,     0.66867,     0.66967,     0.67067,     0.67167,\n",
       "           0.67267,     0.67367,     0.67467,     0.67568,     0.67668,     0.67768,     0.67868,     0.67968,     0.68068,     0.68168,     0.68268,     0.68368,     0.68468,     0.68569,     0.68669,     0.68769,     0.68869,     0.68969,     0.69069,     0.69169,     0.69269,     0.69369,     0.69469,      0.6957,\n",
       "            0.6967,      0.6977,      0.6987,      0.6997,      0.7007,      0.7017,      0.7027,      0.7037,      0.7047,     0.70571,     0.70671,     0.70771,     0.70871,     0.70971,     0.71071,     0.71171,     0.71271,     0.71371,     0.71471,     0.71572,     0.71672,     0.71772,     0.71872,     0.71972,\n",
       "           0.72072,     0.72172,     0.72272,     0.72372,     0.72472,     0.72573,     0.72673,     0.72773,     0.72873,     0.72973,     0.73073,     0.73173,     0.73273,     0.73373,     0.73473,     0.73574,     0.73674,     0.73774,     0.73874,     0.73974,     0.74074,     0.74174,     0.74274,     0.74374,\n",
       "           0.74474,     0.74575,     0.74675,     0.74775,     0.74875,     0.74975,     0.75075,     0.75175,     0.75275,     0.75375,     0.75475,     0.75576,     0.75676,     0.75776,     0.75876,     0.75976,     0.76076,     0.76176,     0.76276,     0.76376,     0.76476,     0.76577,     0.76677,     0.76777,\n",
       "           0.76877,     0.76977,     0.77077,     0.77177,     0.77277,     0.77377,     0.77477,     0.77578,     0.77678,     0.77778,     0.77878,     0.77978,     0.78078,     0.78178,     0.78278,     0.78378,     0.78478,     0.78579,     0.78679,     0.78779,     0.78879,     0.78979,     0.79079,     0.79179,\n",
       "           0.79279,     0.79379,     0.79479,      0.7958,      0.7968,      0.7978,      0.7988,      0.7998,      0.8008,      0.8018,      0.8028,      0.8038,      0.8048,     0.80581,     0.80681,     0.80781,     0.80881,     0.80981,     0.81081,     0.81181,     0.81281,     0.81381,     0.81481,     0.81582,\n",
       "           0.81682,     0.81782,     0.81882,     0.81982,     0.82082,     0.82182,     0.82282,     0.82382,     0.82482,     0.82583,     0.82683,     0.82783,     0.82883,     0.82983,     0.83083,     0.83183,     0.83283,     0.83383,     0.83483,     0.83584,     0.83684,     0.83784,     0.83884,     0.83984,\n",
       "           0.84084,     0.84184,     0.84284,     0.84384,     0.84484,     0.84585,     0.84685,     0.84785,     0.84885,     0.84985,     0.85085,     0.85185,     0.85285,     0.85385,     0.85485,     0.85586,     0.85686,     0.85786,     0.85886,     0.85986,     0.86086,     0.86186,     0.86286,     0.86386,\n",
       "           0.86486,     0.86587,     0.86687,     0.86787,     0.86887,     0.86987,     0.87087,     0.87187,     0.87287,     0.87387,     0.87487,     0.87588,     0.87688,     0.87788,     0.87888,     0.87988,     0.88088,     0.88188,     0.88288,     0.88388,     0.88488,     0.88589,     0.88689,     0.88789,\n",
       "           0.88889,     0.88989,     0.89089,     0.89189,     0.89289,     0.89389,     0.89489,      0.8959,      0.8969,      0.8979,      0.8989,      0.8999,      0.9009,      0.9019,      0.9029,      0.9039,      0.9049,     0.90591,     0.90691,     0.90791,     0.90891,     0.90991,     0.91091,     0.91191,\n",
       "           0.91291,     0.91391,     0.91491,     0.91592,     0.91692,     0.91792,     0.91892,     0.91992,     0.92092,     0.92192,     0.92292,     0.92392,     0.92492,     0.92593,     0.92693,     0.92793,     0.92893,     0.92993,     0.93093,     0.93193,     0.93293,     0.93393,     0.93493,     0.93594,\n",
       "           0.93694,     0.93794,     0.93894,     0.93994,     0.94094,     0.94194,     0.94294,     0.94394,     0.94494,     0.94595,     0.94695,     0.94795,     0.94895,     0.94995,     0.95095,     0.95195,     0.95295,     0.95395,     0.95495,     0.95596,     0.95696,     0.95796,     0.95896,     0.95996,\n",
       "           0.96096,     0.96196,     0.96296,     0.96396,     0.96496,     0.96597,     0.96697,     0.96797,     0.96897,     0.96997,     0.97097,     0.97197,     0.97297,     0.97397,     0.97497,     0.97598,     0.97698,     0.97798,     0.97898,     0.97998,     0.98098,     0.98198,     0.98298,     0.98398,\n",
       "           0.98498,     0.98599,     0.98699,     0.98799,     0.98899,     0.98999,     0.99099,     0.99199,     0.99299,     0.99399,     0.99499,       0.996,       0.997,       0.998,       0.999,           1]), array([[          1,           1,           1,           1,           1,           1,           1,           1,           1,           1,           1,           1,           1,           1,           1,           1,           1,           1,           1,           1,           1,           1,           1,\n",
       "                  1,           1,           1,           1,           1,           1,           1,           1,           1,           1,           1,           1,           1,           1,           1,           1,           1,           1,           1,           1,           1,           1,           1,\n",
       "                  1,           1,           1,           1,           1,           1,           1,           1,           1,           1,           1,           1,           1,           1,           1,           1,           1,           1,           1,           1,           1,           1,           1,\n",
       "                  1,           1,           1,           1,           1,           1,           1,           1,           1,           1,           1,           1,           1,           1,           1,           1,           1,           1,           1,           1,           1,           1,           1,\n",
       "                  1,           1,           1,           1,           1,           1,           1,           1,           1,           1,           1,           1,           1,           1,           1,           1,           1,           1,           1,           1,           1,           1,           1,\n",
       "                  1,           1,           1,           1,           1,           1,           1,           1,           1,           1,           1,           1,           1,           1,           1,           1,           1,           1,           1,           1,           1,           1,           1,\n",
       "                  1,           1,           1,           1,           1,           1,           1,           1,           1,           1,           1,           1,           1,           1,           1,           1,           1,           1,           1,           1,           1,           1,           1,\n",
       "                  1,           1,           1,           1,           1,           1,           1,           1,           1,           1,           1,           1,           1,           1,           1,           1,     0.99926,     0.99926,     0.99926,     0.99926,     0.99926,     0.99926,     0.99926,\n",
       "            0.99926,     0.99926,     0.99926,     0.99926,     0.99926,     0.99926,     0.99926,     0.99926,     0.99926,     0.99926,     0.99926,     0.99926,     0.99926,     0.99926,     0.99926,     0.99926,     0.99926,     0.99926,     0.99926,     0.99926,     0.99926,     0.99926,     0.99926,\n",
       "            0.99926,     0.99926,     0.99926,     0.99926,     0.99926,     0.99926,     0.99926,     0.99926,     0.99926,     0.99926,     0.99926,     0.99926,     0.99926,     0.99926,     0.99926,     0.99926,     0.99926,     0.99926,     0.99926,     0.99926,     0.99926,     0.99926,     0.99926,\n",
       "            0.99926,     0.99926,     0.99926,     0.99926,     0.99926,     0.99926,     0.99926,     0.99926,     0.99926,     0.99926,     0.99926,     0.99926,     0.99926,     0.99926,     0.99926,     0.99926,     0.99926,     0.99926,     0.99926,     0.99926,     0.99926,     0.99926,     0.99926,\n",
       "            0.99926,     0.99926,     0.99926,     0.99926,     0.99926,     0.99926,     0.99926,     0.99926,     0.99926,     0.99926,     0.99926,     0.99926,     0.99926,     0.99926,     0.99926,     0.99926,     0.99926,     0.99926,     0.99926,     0.99926,     0.99926,     0.99926,     0.99926,\n",
       "            0.99926,     0.99926,     0.99926,     0.99926,     0.99926,     0.99926,     0.99926,     0.99926,     0.99926,     0.99926,     0.99926,     0.99926,     0.99926,     0.99926,     0.99926,     0.99926,     0.99926,     0.99926,     0.99926,     0.99926,     0.99926,     0.99926,     0.99926,\n",
       "            0.99926,     0.99926,     0.99926,     0.99926,     0.99926,     0.99926,     0.99926,     0.99926,     0.99926,     0.99926,     0.99926,     0.99926,     0.99926,     0.99926,     0.99926,     0.99926,     0.99926,     0.99926,     0.99926,     0.99926,     0.99926,     0.99926,     0.99926,\n",
       "            0.99926,     0.99926,     0.99926,     0.99926,     0.99926,     0.99926,     0.99926,     0.99926,     0.99926,     0.99926,     0.99926,     0.99926,     0.99926,     0.99926,     0.99926,     0.99926,     0.99926,     0.99926,     0.99926,     0.99926,     0.99926,     0.99926,     0.99926,\n",
       "            0.99926,     0.99926,     0.99926,     0.99926,     0.99926,     0.99926,     0.99926,     0.99926,     0.99926,     0.99926,     0.99926,     0.99926,     0.99926,     0.99926,     0.99926,     0.99926,     0.99926,     0.99926,     0.99926,     0.99926,     0.99926,     0.99926,     0.99926,\n",
       "            0.99926,     0.99926,     0.99926,     0.99926,     0.99926,     0.99926,     0.99926,     0.99926,     0.99926,     0.99926,     0.99926,     0.99926,     0.99926,     0.99926,     0.99926,     0.99926,     0.99926,     0.99926,     0.99926,     0.99926,     0.99926,     0.99926,     0.99926,\n",
       "            0.99926,     0.99926,     0.99926,     0.99926,     0.99926,     0.99926,     0.99926,     0.99926,     0.99926,     0.99926,     0.99926,     0.99926,     0.99926,     0.99926,     0.99926,     0.99926,     0.99926,     0.99926,     0.99926,     0.99926,     0.99926,     0.99926,     0.99926,\n",
       "            0.99926,     0.99926,     0.99926,     0.99926,     0.99926,     0.99926,     0.99926,     0.99926,     0.99926,     0.99926,     0.99926,     0.99926,     0.99926,     0.99926,     0.99926,     0.99926,     0.99898,     0.99898,     0.99898,     0.99898,     0.99898,     0.99898,     0.99898,\n",
       "            0.99898,     0.99898,     0.99898,     0.99898,     0.99898,     0.99898,     0.99898,     0.99898,     0.99898,     0.99898,     0.99898,     0.99898,     0.99898,     0.99898,     0.99898,     0.99898,     0.99898,     0.99898,     0.99898,     0.99898,     0.99898,     0.99898,     0.99898,\n",
       "            0.99898,     0.99898,     0.99898,     0.99898,     0.99898,     0.99898,     0.99898,     0.99898,     0.99898,     0.99898,     0.99898,     0.99898,     0.99898,     0.99898,     0.99898,     0.99898,     0.99898,     0.99898,     0.99898,     0.99898,     0.99898,     0.99898,     0.99898,\n",
       "            0.99898,     0.99898,     0.99898,     0.99898,     0.99898,     0.99898,     0.99898,     0.99898,     0.99898,     0.99898,     0.99898,     0.99898,     0.99898,     0.99898,     0.99898,     0.99898,     0.99898,     0.99898,     0.99898,     0.99898,     0.99898,     0.99898,     0.99898,\n",
       "            0.99898,     0.99898,     0.99898,     0.99898,     0.99898,     0.99898,     0.99898,     0.99898,     0.99898,     0.99898,     0.99898,     0.99898,     0.99898,     0.99898,     0.99898,     0.99898,     0.99898,     0.99898,     0.99898,     0.99898,     0.99898,     0.99898,     0.99898,\n",
       "            0.99898,     0.99898,     0.99898,     0.99898,     0.99898,     0.99898,     0.99898,     0.99898,     0.99898,     0.99898,     0.99898,     0.99898,     0.99898,     0.99898,     0.99898,     0.99898,     0.99898,     0.99898,     0.99898,     0.99898,     0.99898,     0.99898,     0.99898,\n",
       "            0.99898,     0.99898,     0.99898,     0.99898,     0.99898,     0.99898,     0.99898,     0.99898,     0.99898,     0.99898,     0.99898,     0.99898,     0.99898,     0.99898,     0.99898,     0.99898,     0.99898,     0.99898,     0.99898,     0.99898,     0.99898,     0.99898,     0.99898,\n",
       "            0.99898,     0.99898,     0.99898,     0.99898,     0.99898,     0.99898,     0.99898,     0.99898,     0.99898,     0.99898,     0.99898,     0.99898,     0.99898,     0.99898,     0.99898,     0.99898,     0.99898,     0.99898,     0.99898,     0.99898,     0.99898,     0.99898,     0.99898,\n",
       "            0.99898,     0.99898,     0.99898,     0.99898,     0.99898,     0.99898,     0.99898,     0.99898,     0.99898,     0.99898,     0.99898,     0.99898,     0.99898,     0.99898,     0.99898,     0.99898,     0.99898,     0.99898,     0.99898,     0.99898,     0.99898,     0.99898,     0.99898,\n",
       "            0.99898,     0.99866,     0.99866,     0.99866,     0.99866,     0.99866,     0.99866,     0.99866,     0.99866,     0.99866,     0.99866,     0.99866,     0.99866,     0.99866,     0.99866,     0.99866,     0.99866,     0.99866,     0.99866,     0.99866,     0.99866,     0.99866,     0.99866,\n",
       "            0.99866,     0.99866,     0.99866,     0.99866,     0.99866,     0.99866,     0.99866,     0.99866,     0.99866,     0.99866,     0.99866,     0.99866,     0.99866,     0.99866,     0.99866,     0.99866,     0.99866,     0.99866,     0.99866,     0.99866,     0.99866,     0.99866,     0.99866,\n",
       "            0.99866,     0.99866,     0.99866,     0.99866,     0.99866,     0.99866,     0.99866,     0.99866,     0.99866,     0.99866,     0.99866,     0.99866,     0.99866,     0.99866,     0.99866,     0.99866,     0.99866,     0.99866,     0.99866,     0.99866,     0.99866,     0.99866,     0.99866,\n",
       "            0.99866,     0.99866,     0.99866,     0.99866,     0.99866,     0.99866,     0.99866,     0.99866,     0.99866,     0.99866,     0.99866,     0.99866,     0.99866,     0.99866,     0.99866,     0.99866,     0.99866,     0.99866,     0.99866,     0.99866,     0.99866,     0.99866,     0.99866,\n",
       "            0.99866,      0.9983,      0.9983,      0.9983,      0.9983,      0.9983,      0.9983,      0.9983,      0.9983,      0.9983,      0.9983,      0.9983,      0.9983,      0.9983,      0.9983,      0.9983,      0.9983,      0.9983,      0.9983,      0.9983,      0.9983,      0.9983,      0.9983,\n",
       "             0.9983,      0.9983,      0.9983,      0.9983,      0.9983,      0.9983,      0.9983,      0.9983,      0.9983,      0.9983,      0.9983,     0.99788,     0.99788,     0.99788,     0.99755,     0.99755,     0.99755,     0.99755,     0.99755,     0.99755,     0.99755,     0.99755,     0.99755,\n",
       "            0.99755,     0.99755,     0.99755,     0.99755,     0.99755,     0.99755,     0.99755,     0.99755,     0.99755,     0.99755,     0.99755,     0.99755,     0.99755,     0.99755,     0.99755,     0.99755,     0.99755,     0.99755,     0.99755,     0.99755,     0.99726,     0.99726,     0.99726,\n",
       "            0.99726,     0.99726,     0.99726,     0.99726,     0.99726,     0.99726,     0.99726,     0.99726,     0.99726,     0.99726,     0.99726,     0.99726,     0.99726,     0.99726,     0.99726,     0.99726,     0.99726,     0.99726,     0.99726,     0.99726,     0.99726,     0.99726,     0.99726,\n",
       "            0.99726,     0.99726,     0.99726,     0.99726,     0.99726,     0.99726,     0.99726,     0.99688,     0.99688,     0.99688,     0.99653,     0.99653,     0.99653,     0.99653,     0.99653,     0.99653,     0.99653,     0.99653,     0.99653,      0.9962,      0.9962,      0.9962,      0.9962,\n",
       "             0.9962,      0.9962,      0.9962,      0.9962,      0.9962,      0.9962,      0.9962,      0.9962,     0.99545,     0.99512,     0.99512,     0.99512,     0.99512,     0.99512,     0.99512,     0.99512,     0.99512,     0.99512,      0.9948,      0.9948,      0.9948,      0.9948,      0.9948,\n",
       "             0.9948,      0.9948,     0.99408,     0.99408,     0.99408,     0.99408,     0.99337,     0.99337,     0.99337,     0.99265,     0.99229,     0.99157,      0.9905,      0.9905,     0.98764,     0.98657,     0.98587,     0.98553,     0.98449,     0.98414,     0.98381,     0.98171,     0.98138,\n",
       "            0.96755,     0.96081,     0.94567,     0.92538,     0.89889,     0.85365,     0.57434,     0.56952,     0.56469,     0.55987,     0.55504,     0.55021,     0.54539,     0.54056,     0.53573,     0.53091,     0.52608,     0.52125,     0.51643,      0.5116,     0.50677,     0.50195,     0.49712,\n",
       "             0.4923,     0.48747,     0.48264,     0.47782,     0.47299,     0.46816,     0.46334,     0.45851,     0.45368,     0.44886,     0.44403,      0.4392,     0.43438,     0.42955,     0.42473,      0.4199,     0.41507,     0.41025,     0.40542,     0.40059,     0.39577,     0.39094,     0.38611,\n",
       "            0.38129,     0.37646,     0.37163,     0.36681,     0.36198,     0.35716,     0.35233,      0.3475,     0.34268,     0.33785,     0.33302,      0.3282,     0.32337,     0.31854,     0.31372,     0.30889,     0.30406,     0.29924,     0.29441,     0.28959,     0.28476,     0.27993,     0.27511,\n",
       "            0.27028,     0.26545,     0.26063,      0.2558,     0.25097,     0.24615,     0.24132,     0.23649,     0.23167,     0.22684,     0.22202,     0.21719,     0.21236,     0.20754,     0.20271,     0.19788,     0.19306,     0.18823,      0.1834,     0.17858,     0.17375,     0.16892,      0.1641,\n",
       "            0.15927,     0.15445,     0.14962,     0.14479,     0.13997,     0.13514,     0.13031,     0.12549,     0.12066,     0.11583,     0.11101,     0.10618,     0.10135,    0.096529,    0.091702,    0.086876,    0.082049,    0.077223,    0.072396,     0.06757,    0.062744,    0.057917,    0.053091,\n",
       "           0.048264,    0.043438,    0.038611,    0.033785,    0.028959,    0.024132,    0.019306,    0.014479,   0.0096529,   0.0048264,           0]]), 'Recall', 'Precision'], [array([          0,    0.001001,    0.002002,    0.003003,    0.004004,    0.005005,    0.006006,    0.007007,    0.008008,    0.009009,     0.01001,    0.011011,    0.012012,    0.013013,    0.014014,    0.015015,    0.016016,    0.017017,    0.018018,    0.019019,     0.02002,    0.021021,    0.022022,    0.023023,\n",
       "          0.024024,    0.025025,    0.026026,    0.027027,    0.028028,    0.029029,     0.03003,    0.031031,    0.032032,    0.033033,    0.034034,    0.035035,    0.036036,    0.037037,    0.038038,    0.039039,     0.04004,    0.041041,    0.042042,    0.043043,    0.044044,    0.045045,    0.046046,    0.047047,\n",
       "          0.048048,    0.049049,     0.05005,    0.051051,    0.052052,    0.053053,    0.054054,    0.055055,    0.056056,    0.057057,    0.058058,    0.059059,     0.06006,    0.061061,    0.062062,    0.063063,    0.064064,    0.065065,    0.066066,    0.067067,    0.068068,    0.069069,     0.07007,    0.071071,\n",
       "          0.072072,    0.073073,    0.074074,    0.075075,    0.076076,    0.077077,    0.078078,    0.079079,     0.08008,    0.081081,    0.082082,    0.083083,    0.084084,    0.085085,    0.086086,    0.087087,    0.088088,    0.089089,     0.09009,    0.091091,    0.092092,    0.093093,    0.094094,    0.095095,\n",
       "          0.096096,    0.097097,    0.098098,    0.099099,      0.1001,      0.1011,      0.1021,      0.1031,      0.1041,     0.10511,     0.10611,     0.10711,     0.10811,     0.10911,     0.11011,     0.11111,     0.11211,     0.11311,     0.11411,     0.11512,     0.11612,     0.11712,     0.11812,     0.11912,\n",
       "           0.12012,     0.12112,     0.12212,     0.12312,     0.12412,     0.12513,     0.12613,     0.12713,     0.12813,     0.12913,     0.13013,     0.13113,     0.13213,     0.13313,     0.13413,     0.13514,     0.13614,     0.13714,     0.13814,     0.13914,     0.14014,     0.14114,     0.14214,     0.14314,\n",
       "           0.14414,     0.14515,     0.14615,     0.14715,     0.14815,     0.14915,     0.15015,     0.15115,     0.15215,     0.15315,     0.15415,     0.15516,     0.15616,     0.15716,     0.15816,     0.15916,     0.16016,     0.16116,     0.16216,     0.16316,     0.16416,     0.16517,     0.16617,     0.16717,\n",
       "           0.16817,     0.16917,     0.17017,     0.17117,     0.17217,     0.17317,     0.17417,     0.17518,     0.17618,     0.17718,     0.17818,     0.17918,     0.18018,     0.18118,     0.18218,     0.18318,     0.18418,     0.18519,     0.18619,     0.18719,     0.18819,     0.18919,     0.19019,     0.19119,\n",
       "           0.19219,     0.19319,     0.19419,      0.1952,      0.1962,      0.1972,      0.1982,      0.1992,      0.2002,      0.2012,      0.2022,      0.2032,      0.2042,     0.20521,     0.20621,     0.20721,     0.20821,     0.20921,     0.21021,     0.21121,     0.21221,     0.21321,     0.21421,     0.21522,\n",
       "           0.21622,     0.21722,     0.21822,     0.21922,     0.22022,     0.22122,     0.22222,     0.22322,     0.22422,     0.22523,     0.22623,     0.22723,     0.22823,     0.22923,     0.23023,     0.23123,     0.23223,     0.23323,     0.23423,     0.23524,     0.23624,     0.23724,     0.23824,     0.23924,\n",
       "           0.24024,     0.24124,     0.24224,     0.24324,     0.24424,     0.24525,     0.24625,     0.24725,     0.24825,     0.24925,     0.25025,     0.25125,     0.25225,     0.25325,     0.25425,     0.25526,     0.25626,     0.25726,     0.25826,     0.25926,     0.26026,     0.26126,     0.26226,     0.26326,\n",
       "           0.26426,     0.26527,     0.26627,     0.26727,     0.26827,     0.26927,     0.27027,     0.27127,     0.27227,     0.27327,     0.27427,     0.27528,     0.27628,     0.27728,     0.27828,     0.27928,     0.28028,     0.28128,     0.28228,     0.28328,     0.28428,     0.28529,     0.28629,     0.28729,\n",
       "           0.28829,     0.28929,     0.29029,     0.29129,     0.29229,     0.29329,     0.29429,      0.2953,      0.2963,      0.2973,      0.2983,      0.2993,      0.3003,      0.3013,      0.3023,      0.3033,      0.3043,     0.30531,     0.30631,     0.30731,     0.30831,     0.30931,     0.31031,     0.31131,\n",
       "           0.31231,     0.31331,     0.31431,     0.31532,     0.31632,     0.31732,     0.31832,     0.31932,     0.32032,     0.32132,     0.32232,     0.32332,     0.32432,     0.32533,     0.32633,     0.32733,     0.32833,     0.32933,     0.33033,     0.33133,     0.33233,     0.33333,     0.33433,     0.33534,\n",
       "           0.33634,     0.33734,     0.33834,     0.33934,     0.34034,     0.34134,     0.34234,     0.34334,     0.34434,     0.34535,     0.34635,     0.34735,     0.34835,     0.34935,     0.35035,     0.35135,     0.35235,     0.35335,     0.35435,     0.35536,     0.35636,     0.35736,     0.35836,     0.35936,\n",
       "           0.36036,     0.36136,     0.36236,     0.36336,     0.36436,     0.36537,     0.36637,     0.36737,     0.36837,     0.36937,     0.37037,     0.37137,     0.37237,     0.37337,     0.37437,     0.37538,     0.37638,     0.37738,     0.37838,     0.37938,     0.38038,     0.38138,     0.38238,     0.38338,\n",
       "           0.38438,     0.38539,     0.38639,     0.38739,     0.38839,     0.38939,     0.39039,     0.39139,     0.39239,     0.39339,     0.39439,      0.3954,      0.3964,      0.3974,      0.3984,      0.3994,      0.4004,      0.4014,      0.4024,      0.4034,      0.4044,     0.40541,     0.40641,     0.40741,\n",
       "           0.40841,     0.40941,     0.41041,     0.41141,     0.41241,     0.41341,     0.41441,     0.41542,     0.41642,     0.41742,     0.41842,     0.41942,     0.42042,     0.42142,     0.42242,     0.42342,     0.42442,     0.42543,     0.42643,     0.42743,     0.42843,     0.42943,     0.43043,     0.43143,\n",
       "           0.43243,     0.43343,     0.43443,     0.43544,     0.43644,     0.43744,     0.43844,     0.43944,     0.44044,     0.44144,     0.44244,     0.44344,     0.44444,     0.44545,     0.44645,     0.44745,     0.44845,     0.44945,     0.45045,     0.45145,     0.45245,     0.45345,     0.45445,     0.45546,\n",
       "           0.45646,     0.45746,     0.45846,     0.45946,     0.46046,     0.46146,     0.46246,     0.46346,     0.46446,     0.46547,     0.46647,     0.46747,     0.46847,     0.46947,     0.47047,     0.47147,     0.47247,     0.47347,     0.47447,     0.47548,     0.47648,     0.47748,     0.47848,     0.47948,\n",
       "           0.48048,     0.48148,     0.48248,     0.48348,     0.48448,     0.48549,     0.48649,     0.48749,     0.48849,     0.48949,     0.49049,     0.49149,     0.49249,     0.49349,     0.49449,      0.4955,      0.4965,      0.4975,      0.4985,      0.4995,      0.5005,      0.5015,      0.5025,      0.5035,\n",
       "            0.5045,     0.50551,     0.50651,     0.50751,     0.50851,     0.50951,     0.51051,     0.51151,     0.51251,     0.51351,     0.51451,     0.51552,     0.51652,     0.51752,     0.51852,     0.51952,     0.52052,     0.52152,     0.52252,     0.52352,     0.52452,     0.52553,     0.52653,     0.52753,\n",
       "           0.52853,     0.52953,     0.53053,     0.53153,     0.53253,     0.53353,     0.53453,     0.53554,     0.53654,     0.53754,     0.53854,     0.53954,     0.54054,     0.54154,     0.54254,     0.54354,     0.54454,     0.54555,     0.54655,     0.54755,     0.54855,     0.54955,     0.55055,     0.55155,\n",
       "           0.55255,     0.55355,     0.55455,     0.55556,     0.55656,     0.55756,     0.55856,     0.55956,     0.56056,     0.56156,     0.56256,     0.56356,     0.56456,     0.56557,     0.56657,     0.56757,     0.56857,     0.56957,     0.57057,     0.57157,     0.57257,     0.57357,     0.57457,     0.57558,\n",
       "           0.57658,     0.57758,     0.57858,     0.57958,     0.58058,     0.58158,     0.58258,     0.58358,     0.58458,     0.58559,     0.58659,     0.58759,     0.58859,     0.58959,     0.59059,     0.59159,     0.59259,     0.59359,     0.59459,      0.5956,      0.5966,      0.5976,      0.5986,      0.5996,\n",
       "            0.6006,      0.6016,      0.6026,      0.6036,      0.6046,     0.60561,     0.60661,     0.60761,     0.60861,     0.60961,     0.61061,     0.61161,     0.61261,     0.61361,     0.61461,     0.61562,     0.61662,     0.61762,     0.61862,     0.61962,     0.62062,     0.62162,     0.62262,     0.62362,\n",
       "           0.62462,     0.62563,     0.62663,     0.62763,     0.62863,     0.62963,     0.63063,     0.63163,     0.63263,     0.63363,     0.63463,     0.63564,     0.63664,     0.63764,     0.63864,     0.63964,     0.64064,     0.64164,     0.64264,     0.64364,     0.64464,     0.64565,     0.64665,     0.64765,\n",
       "           0.64865,     0.64965,     0.65065,     0.65165,     0.65265,     0.65365,     0.65465,     0.65566,     0.65666,     0.65766,     0.65866,     0.65966,     0.66066,     0.66166,     0.66266,     0.66366,     0.66466,     0.66567,     0.66667,     0.66767,     0.66867,     0.66967,     0.67067,     0.67167,\n",
       "           0.67267,     0.67367,     0.67467,     0.67568,     0.67668,     0.67768,     0.67868,     0.67968,     0.68068,     0.68168,     0.68268,     0.68368,     0.68468,     0.68569,     0.68669,     0.68769,     0.68869,     0.68969,     0.69069,     0.69169,     0.69269,     0.69369,     0.69469,      0.6957,\n",
       "            0.6967,      0.6977,      0.6987,      0.6997,      0.7007,      0.7017,      0.7027,      0.7037,      0.7047,     0.70571,     0.70671,     0.70771,     0.70871,     0.70971,     0.71071,     0.71171,     0.71271,     0.71371,     0.71471,     0.71572,     0.71672,     0.71772,     0.71872,     0.71972,\n",
       "           0.72072,     0.72172,     0.72272,     0.72372,     0.72472,     0.72573,     0.72673,     0.72773,     0.72873,     0.72973,     0.73073,     0.73173,     0.73273,     0.73373,     0.73473,     0.73574,     0.73674,     0.73774,     0.73874,     0.73974,     0.74074,     0.74174,     0.74274,     0.74374,\n",
       "           0.74474,     0.74575,     0.74675,     0.74775,     0.74875,     0.74975,     0.75075,     0.75175,     0.75275,     0.75375,     0.75475,     0.75576,     0.75676,     0.75776,     0.75876,     0.75976,     0.76076,     0.76176,     0.76276,     0.76376,     0.76476,     0.76577,     0.76677,     0.76777,\n",
       "           0.76877,     0.76977,     0.77077,     0.77177,     0.77277,     0.77377,     0.77477,     0.77578,     0.77678,     0.77778,     0.77878,     0.77978,     0.78078,     0.78178,     0.78278,     0.78378,     0.78478,     0.78579,     0.78679,     0.78779,     0.78879,     0.78979,     0.79079,     0.79179,\n",
       "           0.79279,     0.79379,     0.79479,      0.7958,      0.7968,      0.7978,      0.7988,      0.7998,      0.8008,      0.8018,      0.8028,      0.8038,      0.8048,     0.80581,     0.80681,     0.80781,     0.80881,     0.80981,     0.81081,     0.81181,     0.81281,     0.81381,     0.81481,     0.81582,\n",
       "           0.81682,     0.81782,     0.81882,     0.81982,     0.82082,     0.82182,     0.82282,     0.82382,     0.82482,     0.82583,     0.82683,     0.82783,     0.82883,     0.82983,     0.83083,     0.83183,     0.83283,     0.83383,     0.83483,     0.83584,     0.83684,     0.83784,     0.83884,     0.83984,\n",
       "           0.84084,     0.84184,     0.84284,     0.84384,     0.84484,     0.84585,     0.84685,     0.84785,     0.84885,     0.84985,     0.85085,     0.85185,     0.85285,     0.85385,     0.85485,     0.85586,     0.85686,     0.85786,     0.85886,     0.85986,     0.86086,     0.86186,     0.86286,     0.86386,\n",
       "           0.86486,     0.86587,     0.86687,     0.86787,     0.86887,     0.86987,     0.87087,     0.87187,     0.87287,     0.87387,     0.87487,     0.87588,     0.87688,     0.87788,     0.87888,     0.87988,     0.88088,     0.88188,     0.88288,     0.88388,     0.88488,     0.88589,     0.88689,     0.88789,\n",
       "           0.88889,     0.88989,     0.89089,     0.89189,     0.89289,     0.89389,     0.89489,      0.8959,      0.8969,      0.8979,      0.8989,      0.8999,      0.9009,      0.9019,      0.9029,      0.9039,      0.9049,     0.90591,     0.90691,     0.90791,     0.90891,     0.90991,     0.91091,     0.91191,\n",
       "           0.91291,     0.91391,     0.91491,     0.91592,     0.91692,     0.91792,     0.91892,     0.91992,     0.92092,     0.92192,     0.92292,     0.92392,     0.92492,     0.92593,     0.92693,     0.92793,     0.92893,     0.92993,     0.93093,     0.93193,     0.93293,     0.93393,     0.93493,     0.93594,\n",
       "           0.93694,     0.93794,     0.93894,     0.93994,     0.94094,     0.94194,     0.94294,     0.94394,     0.94494,     0.94595,     0.94695,     0.94795,     0.94895,     0.94995,     0.95095,     0.95195,     0.95295,     0.95395,     0.95495,     0.95596,     0.95696,     0.95796,     0.95896,     0.95996,\n",
       "           0.96096,     0.96196,     0.96296,     0.96396,     0.96496,     0.96597,     0.96697,     0.96797,     0.96897,     0.96997,     0.97097,     0.97197,     0.97297,     0.97397,     0.97497,     0.97598,     0.97698,     0.97798,     0.97898,     0.97998,     0.98098,     0.98198,     0.98298,     0.98398,\n",
       "           0.98498,     0.98599,     0.98699,     0.98799,     0.98899,     0.98999,     0.99099,     0.99199,     0.99299,     0.99399,     0.99499,       0.996,       0.997,       0.998,       0.999,           1]), array([[     0.6959,      0.6959,      0.6959,     0.69678,      0.6996,     0.70915,     0.72071,     0.72983,     0.74252,     0.75239,     0.76138,     0.76805,     0.77457,      0.7809,     0.78943,     0.79407,     0.79854,     0.80397,     0.80737,     0.81177,     0.81785,     0.82038,     0.82406,\n",
       "            0.82902,     0.83325,     0.83754,     0.84266,      0.8464,     0.85064,     0.85451,     0.85848,     0.86194,     0.86541,      0.8676,     0.87021,     0.87254,     0.87381,       0.876,     0.87859,     0.88025,     0.88201,     0.88458,     0.88589,     0.88732,      0.8882,     0.88974,\n",
       "            0.89134,     0.89227,     0.89332,     0.89391,      0.8947,     0.89588,     0.89668,     0.89738,     0.89852,     0.89915,     0.89977,     0.90011,     0.90087,     0.90103,     0.90135,     0.90148,      0.9016,     0.90203,     0.90244,     0.90306,     0.90329,     0.90363,      0.9042,\n",
       "            0.90454,      0.9052,     0.90532,     0.90552,     0.90548,     0.90618,     0.90628,      0.9064,     0.90649,     0.90659,     0.90691,     0.90709,     0.90736,     0.90787,       0.908,     0.90828,     0.90845,     0.90899,     0.90949,     0.90993,     0.91009,     0.91004,     0.91011,\n",
       "            0.90999,     0.91015,     0.91046,      0.9106,     0.91087,     0.91093,     0.91098,     0.91131,     0.91154,     0.91194,     0.91201,     0.91208,     0.91215,     0.91222,     0.91244,     0.91286,     0.91312,     0.91335,     0.91341,     0.91354,     0.91391,     0.91409,     0.91419,\n",
       "            0.91432,     0.91459,     0.91473,     0.91488,     0.91507,      0.9152,     0.91532,     0.91554,     0.91581,     0.91595,     0.91582,     0.91594,       0.916,     0.91612,     0.91618,     0.91624,     0.91628,     0.91627,     0.91635,      0.9165,     0.91674,      0.9173,      0.9175,\n",
       "             0.9176,     0.91746,     0.91726,     0.91734,     0.91742,     0.91748,     0.91754,     0.91762,      0.9177,     0.91776,     0.91783,     0.91817,     0.91823,     0.91829,     0.91848,     0.91858,     0.91881,      0.9187,     0.91863,     0.91858,     0.91886,     0.91904,     0.91907,\n",
       "            0.91909,     0.91912,     0.91915,     0.91917,     0.91934,     0.91939,     0.91944,     0.91948,     0.91966,     0.91969,     0.91972,     0.91976,     0.91979,     0.92004,     0.92033,     0.92058,     0.92079,     0.92093,     0.92109,     0.92153,     0.92157,     0.92162,     0.92167,\n",
       "            0.92173,      0.9218,     0.92198,     0.92205,     0.92211,     0.92216,      0.9222,     0.92224,     0.92231,     0.92275,     0.92283,     0.92293,     0.92305,     0.92313,     0.92322,     0.92334,     0.92338,      0.9234,     0.92342,     0.92344,     0.92345,     0.92347,     0.92349,\n",
       "            0.92351,     0.92401,     0.92405,     0.92409,     0.92413,     0.92416,     0.92419,     0.92422,     0.92425,     0.92428,     0.92428,     0.92425,     0.92422,     0.92419,     0.92416,     0.92413,     0.92434,     0.92445,     0.92456,     0.92454,     0.92449,     0.92444,     0.92439,\n",
       "            0.92438,     0.92436,     0.92434,     0.92432,      0.9243,     0.92428,     0.92426,     0.92425,     0.92423,     0.92435,     0.92426,     0.92417,     0.92413,     0.92409,     0.92405,     0.92403,     0.92413,     0.92431,     0.92436,     0.92441,     0.92445,     0.92462,     0.92456,\n",
       "             0.9245,     0.92448,     0.92455,     0.92461,     0.92459,     0.92457,     0.92455,     0.92453,     0.92452,      0.9245,     0.92448,     0.92446,     0.92444,     0.92446,     0.92453,     0.92455,     0.92435,     0.92407,     0.92407,     0.92414,     0.92406,     0.92384,     0.92362,\n",
       "            0.92358,     0.92354,      0.9235,     0.92346,     0.92347,     0.92352,     0.92356,     0.92359,     0.92357,     0.92355,     0.92352,      0.9235,     0.92348,     0.92345,     0.92343,     0.92345,     0.92355,     0.92349,     0.92339,     0.92343,     0.92346,     0.92349,     0.92352,\n",
       "            0.92354,     0.92349,     0.92345,      0.9234,     0.92334,     0.92305,     0.92312,     0.92301,     0.92281,     0.92298,      0.9231,     0.92309,     0.92307,     0.92306,     0.92305,     0.92304,     0.92302,     0.92301,       0.923,     0.92299,     0.92297,     0.92296,     0.92295,\n",
       "            0.92293,     0.92292,     0.92288,     0.92278,     0.92272,     0.92274,     0.92277,     0.92279,     0.92281,     0.92283,     0.92286,     0.92288,     0.92291,     0.92294,     0.92297,       0.923,     0.92301,     0.92296,     0.92291,     0.92285,      0.9228,     0.92275,      0.9227,\n",
       "            0.92266,     0.92269,     0.92272,     0.92275,     0.92279,     0.92282,     0.92287,     0.92293,     0.92298,       0.923,     0.92301,     0.92303,     0.92305,     0.92306,     0.92308,      0.9231,     0.92312,     0.92293,     0.92288,     0.92283,     0.92278,     0.92282,     0.92291,\n",
       "              0.923,     0.92308,     0.92325,     0.92333,     0.92342,     0.92351,     0.92344,     0.92334,      0.9233,     0.92326,     0.92322,     0.92318,     0.92308,     0.92298,     0.92292,     0.92286,     0.92282,     0.92284,     0.92285,     0.92287,     0.92289,     0.92291,     0.92292,\n",
       "            0.92294,     0.92296,     0.92312,     0.92301,     0.92293,     0.92288,     0.92283,     0.92279,      0.9229,     0.92285,      0.9228,     0.92275,     0.92268,     0.92269,     0.92266,     0.92263,      0.9226,     0.92257,     0.92255,     0.92251,     0.92245,     0.92238,     0.92235,\n",
       "            0.92238,     0.92241,     0.92244,     0.92246,     0.92249,     0.92245,     0.92239,     0.92233,     0.92228,     0.92223,     0.92217,     0.92214,     0.92218,     0.92222,     0.92226,     0.92225,     0.92193,     0.92197,     0.92201,     0.92205,      0.9221,     0.92216,     0.92222,\n",
       "            0.92223,     0.92222,     0.92221,      0.9222,     0.92219,     0.92218,     0.92217,     0.92216,     0.92215,     0.92214,     0.92213,     0.92212,     0.92211,      0.9221,      0.9221,     0.92209,     0.92208,     0.92207,     0.92206,     0.92204,     0.92203,     0.92201,     0.92199,\n",
       "            0.92198,     0.92196,     0.92194,     0.92192,     0.92191,     0.92189,     0.92187,     0.92174,     0.92162,     0.92152,     0.92147,     0.92143,     0.92139,     0.92136,     0.92132,     0.92115,     0.92096,     0.92077,      0.9204,     0.92063,      0.9207,     0.92052,     0.92047,\n",
       "            0.92042,     0.92038,     0.92033,     0.92028,     0.92023,     0.92019,     0.92011,     0.91995,     0.91991,     0.91986,     0.91981,     0.91975,     0.91965,     0.91952,     0.91933,     0.91914,     0.91899,      0.9189,     0.91884,     0.91881,     0.91877,     0.91874,     0.91871,\n",
       "            0.91868,     0.91859,     0.91873,     0.91864,     0.91836,     0.91826,     0.91817,     0.91807,     0.91782,     0.91775,     0.91769,     0.91763,     0.91756,      0.9175,     0.91694,     0.91687,     0.91681,     0.91674,     0.91637,     0.91627,     0.91619,     0.91615,     0.91611,\n",
       "            0.91607,     0.91603,     0.91595,     0.91579,      0.9157,     0.91563,      0.9156,     0.91558,     0.91555,     0.91553,     0.91551,     0.91548,     0.91546,     0.91483,     0.91474,     0.91456,     0.91464,     0.91405,     0.91395,     0.91351,     0.91346,     0.91342,     0.91337,\n",
       "            0.91272,     0.91262,     0.91253,     0.91243,     0.91237,     0.91232,     0.91226,     0.91221,     0.91216,     0.91211,     0.91206,     0.91183,     0.91178,     0.91173,     0.91168,     0.91123,     0.91113,     0.91047,     0.91037,     0.91009,     0.90999,     0.90989,      0.9098,\n",
       "            0.90932,     0.90922,     0.90928,     0.90922,     0.90915,     0.90922,     0.90928,     0.90888,     0.90878,     0.90793,     0.90783,     0.90754,     0.90745,     0.90738,     0.90733,     0.90729,     0.90724,     0.90715,     0.90705,     0.90619,      0.9061,      0.9054,      0.9049,\n",
       "             0.9048,     0.90471,     0.90461,     0.90413,     0.90403,     0.90355,     0.90345,     0.90336,     0.90326,     0.90295,     0.90244,     0.90234,      0.9024,      0.9023,      0.9022,     0.90211,     0.90105,     0.90095,     0.90026,     0.90013,     0.89945,     0.89935,     0.89925,\n",
       "            0.89915,     0.89896,     0.89888,      0.8988,     0.89833,     0.89823,      0.8971,      0.8969,     0.89677,     0.89667,      0.8967,     0.89616,     0.89596,      0.8958,      0.8957,     0.89516,     0.89503,     0.89493,     0.89483,     0.89454,     0.89424,     0.89414,     0.89402,\n",
       "            0.89374,     0.89262,     0.89252,     0.89203,     0.89193,     0.89083,     0.89031,     0.89021,     0.88971,     0.88958,     0.88908,     0.88898,     0.88859,     0.88839,     0.88825,     0.88774,     0.88764,     0.88713,      0.8864,      0.8863,      0.8858,      0.8857,       0.885,\n",
       "            0.88487,     0.88416,     0.88406,     0.88354,     0.88259,     0.88238,     0.88141,     0.88127,     0.87997,     0.87987,     0.87953,     0.87821,     0.87811,     0.87739,     0.87665,     0.87655,     0.87584,      0.8757,     0.87473,     0.87463,      0.8739,     0.87356,     0.87342,\n",
       "            0.87169,     0.87159,     0.87105,     0.87011,        0.87,     0.86795,     0.86772,     0.86655,     0.86602,     0.86591,     0.86497,     0.86318,     0.86296,     0.86169,     0.86158,     0.86104,     0.85945,     0.85931,     0.85725,     0.85704,     0.85495,     0.85287,     0.85273,\n",
       "            0.85094,     0.85083,     0.84837,     0.84738,     0.84724,     0.84539,     0.84357,     0.84346,     0.84055,     0.83783,     0.83768,     0.83576,      0.8335,     0.83335,     0.83277,     0.83061,      0.8305,     0.82863,     0.82848,     0.82614,     0.82347,     0.82321,     0.82128,\n",
       "            0.81891,     0.81875,     0.81682,     0.81443,     0.81091,     0.81076,     0.80837,     0.80825,     0.80386,     0.79998,     0.79982,     0.79829,     0.79582,     0.79566,      0.7918,     0.78814,     0.78798,     0.78359,     0.77917,     0.77901,       0.774,     0.77022,     0.76391,\n",
       "            0.76374,     0.76138,     0.75507,     0.75118,     0.75101,     0.74617,     0.74039,     0.74022,       0.737,     0.73093,     0.72657,     0.72639,     0.72154,     0.71429,     0.71411,     0.70784,      0.7015,     0.70132,     0.69673,      0.6911,     0.68184,     0.67497,     0.67478,\n",
       "            0.66919,     0.66272,     0.65449,     0.65429,     0.64619,     0.63595,     0.62799,     0.62779,     0.61996,     0.61148,     0.60354,     0.60333,     0.59534,     0.58783,      0.5757,     0.56499,     0.56477,     0.55661,     0.54595,     0.53923,     0.52975,     0.52003,      0.5198,\n",
       "            0.50999,     0.50008,     0.48897,     0.47762,     0.47736,     0.46434,     0.45345,     0.44162,     0.43147,     0.42125,     0.42097,     0.40937,     0.39859,     0.38954,     0.37912,     0.36992,     0.35981,      0.3468,     0.33537,     0.33474,     0.32673,      0.3182,     0.30877,\n",
       "            0.30247,     0.29423,     0.28395,     0.27358,     0.27326,     0.26371,      0.2516,     0.24276,     0.23682,       0.229,     0.21902,     0.21138,     0.20317,     0.19436,     0.18599,     0.18124,     0.17168,     0.16483,     0.15687,     0.14924,       0.141,     0.13199,     0.11809,\n",
       "            0.11185,     0.10556,    0.099225,    0.095168,    0.089931,     0.08525,     0.07937,    0.075819,    0.072254,    0.060612,    0.056361,    0.052147,    0.049101,    0.047263,    0.044812,    0.043577,     0.04222,    0.038344,    0.033406,    0.030301,    0.029048,    0.022505,    0.021866,\n",
       "           0.020678,    0.020251,    0.019006,    0.018035,    0.017713,    0.013781,    0.013458,    0.010772,    0.010448,   0.0094011,   0.0084983,   0.0078497,   0.0073426,    0.006943,   0.0066832,   0.0064234,   0.0031155,   0.0028547,   0.0025938,   0.0022789,   0.0019527,   0.0017692,    0.001606,\n",
       "          0.0014427,   0.0012795,   0.0012173,   0.0011579,   0.0010986,   0.0010392,   0.0009798,   0.0009204,  0.00086101,  0.00080161,  0.00074221,   0.0006828,           0,           0,           0,           0,           0,           0,           0,           0,           0,           0,           0,\n",
       "                  0,           0,           0,           0,           0,           0,           0,           0,           0,           0,           0,           0,           0,           0,           0,           0,           0,           0,           0,           0,           0,           0,           0,\n",
       "                  0,           0,           0,           0,           0,           0,           0,           0,           0,           0,           0,           0,           0,           0,           0,           0,           0,           0,           0,           0,           0,           0,           0,\n",
       "                  0,           0,           0,           0,           0,           0,           0,           0,           0,           0,           0,           0,           0,           0,           0,           0,           0,           0,           0,           0,           0,           0,           0,\n",
       "                  0,           0,           0,           0,           0,           0,           0,           0,           0,           0,           0]]), 'Confidence', 'F1'], [array([          0,    0.001001,    0.002002,    0.003003,    0.004004,    0.005005,    0.006006,    0.007007,    0.008008,    0.009009,     0.01001,    0.011011,    0.012012,    0.013013,    0.014014,    0.015015,    0.016016,    0.017017,    0.018018,    0.019019,     0.02002,    0.021021,    0.022022,    0.023023,\n",
       "          0.024024,    0.025025,    0.026026,    0.027027,    0.028028,    0.029029,     0.03003,    0.031031,    0.032032,    0.033033,    0.034034,    0.035035,    0.036036,    0.037037,    0.038038,    0.039039,     0.04004,    0.041041,    0.042042,    0.043043,    0.044044,    0.045045,    0.046046,    0.047047,\n",
       "          0.048048,    0.049049,     0.05005,    0.051051,    0.052052,    0.053053,    0.054054,    0.055055,    0.056056,    0.057057,    0.058058,    0.059059,     0.06006,    0.061061,    0.062062,    0.063063,    0.064064,    0.065065,    0.066066,    0.067067,    0.068068,    0.069069,     0.07007,    0.071071,\n",
       "          0.072072,    0.073073,    0.074074,    0.075075,    0.076076,    0.077077,    0.078078,    0.079079,     0.08008,    0.081081,    0.082082,    0.083083,    0.084084,    0.085085,    0.086086,    0.087087,    0.088088,    0.089089,     0.09009,    0.091091,    0.092092,    0.093093,    0.094094,    0.095095,\n",
       "          0.096096,    0.097097,    0.098098,    0.099099,      0.1001,      0.1011,      0.1021,      0.1031,      0.1041,     0.10511,     0.10611,     0.10711,     0.10811,     0.10911,     0.11011,     0.11111,     0.11211,     0.11311,     0.11411,     0.11512,     0.11612,     0.11712,     0.11812,     0.11912,\n",
       "           0.12012,     0.12112,     0.12212,     0.12312,     0.12412,     0.12513,     0.12613,     0.12713,     0.12813,     0.12913,     0.13013,     0.13113,     0.13213,     0.13313,     0.13413,     0.13514,     0.13614,     0.13714,     0.13814,     0.13914,     0.14014,     0.14114,     0.14214,     0.14314,\n",
       "           0.14414,     0.14515,     0.14615,     0.14715,     0.14815,     0.14915,     0.15015,     0.15115,     0.15215,     0.15315,     0.15415,     0.15516,     0.15616,     0.15716,     0.15816,     0.15916,     0.16016,     0.16116,     0.16216,     0.16316,     0.16416,     0.16517,     0.16617,     0.16717,\n",
       "           0.16817,     0.16917,     0.17017,     0.17117,     0.17217,     0.17317,     0.17417,     0.17518,     0.17618,     0.17718,     0.17818,     0.17918,     0.18018,     0.18118,     0.18218,     0.18318,     0.18418,     0.18519,     0.18619,     0.18719,     0.18819,     0.18919,     0.19019,     0.19119,\n",
       "           0.19219,     0.19319,     0.19419,      0.1952,      0.1962,      0.1972,      0.1982,      0.1992,      0.2002,      0.2012,      0.2022,      0.2032,      0.2042,     0.20521,     0.20621,     0.20721,     0.20821,     0.20921,     0.21021,     0.21121,     0.21221,     0.21321,     0.21421,     0.21522,\n",
       "           0.21622,     0.21722,     0.21822,     0.21922,     0.22022,     0.22122,     0.22222,     0.22322,     0.22422,     0.22523,     0.22623,     0.22723,     0.22823,     0.22923,     0.23023,     0.23123,     0.23223,     0.23323,     0.23423,     0.23524,     0.23624,     0.23724,     0.23824,     0.23924,\n",
       "           0.24024,     0.24124,     0.24224,     0.24324,     0.24424,     0.24525,     0.24625,     0.24725,     0.24825,     0.24925,     0.25025,     0.25125,     0.25225,     0.25325,     0.25425,     0.25526,     0.25626,     0.25726,     0.25826,     0.25926,     0.26026,     0.26126,     0.26226,     0.26326,\n",
       "           0.26426,     0.26527,     0.26627,     0.26727,     0.26827,     0.26927,     0.27027,     0.27127,     0.27227,     0.27327,     0.27427,     0.27528,     0.27628,     0.27728,     0.27828,     0.27928,     0.28028,     0.28128,     0.28228,     0.28328,     0.28428,     0.28529,     0.28629,     0.28729,\n",
       "           0.28829,     0.28929,     0.29029,     0.29129,     0.29229,     0.29329,     0.29429,      0.2953,      0.2963,      0.2973,      0.2983,      0.2993,      0.3003,      0.3013,      0.3023,      0.3033,      0.3043,     0.30531,     0.30631,     0.30731,     0.30831,     0.30931,     0.31031,     0.31131,\n",
       "           0.31231,     0.31331,     0.31431,     0.31532,     0.31632,     0.31732,     0.31832,     0.31932,     0.32032,     0.32132,     0.32232,     0.32332,     0.32432,     0.32533,     0.32633,     0.32733,     0.32833,     0.32933,     0.33033,     0.33133,     0.33233,     0.33333,     0.33433,     0.33534,\n",
       "           0.33634,     0.33734,     0.33834,     0.33934,     0.34034,     0.34134,     0.34234,     0.34334,     0.34434,     0.34535,     0.34635,     0.34735,     0.34835,     0.34935,     0.35035,     0.35135,     0.35235,     0.35335,     0.35435,     0.35536,     0.35636,     0.35736,     0.35836,     0.35936,\n",
       "           0.36036,     0.36136,     0.36236,     0.36336,     0.36436,     0.36537,     0.36637,     0.36737,     0.36837,     0.36937,     0.37037,     0.37137,     0.37237,     0.37337,     0.37437,     0.37538,     0.37638,     0.37738,     0.37838,     0.37938,     0.38038,     0.38138,     0.38238,     0.38338,\n",
       "           0.38438,     0.38539,     0.38639,     0.38739,     0.38839,     0.38939,     0.39039,     0.39139,     0.39239,     0.39339,     0.39439,      0.3954,      0.3964,      0.3974,      0.3984,      0.3994,      0.4004,      0.4014,      0.4024,      0.4034,      0.4044,     0.40541,     0.40641,     0.40741,\n",
       "           0.40841,     0.40941,     0.41041,     0.41141,     0.41241,     0.41341,     0.41441,     0.41542,     0.41642,     0.41742,     0.41842,     0.41942,     0.42042,     0.42142,     0.42242,     0.42342,     0.42442,     0.42543,     0.42643,     0.42743,     0.42843,     0.42943,     0.43043,     0.43143,\n",
       "           0.43243,     0.43343,     0.43443,     0.43544,     0.43644,     0.43744,     0.43844,     0.43944,     0.44044,     0.44144,     0.44244,     0.44344,     0.44444,     0.44545,     0.44645,     0.44745,     0.44845,     0.44945,     0.45045,     0.45145,     0.45245,     0.45345,     0.45445,     0.45546,\n",
       "           0.45646,     0.45746,     0.45846,     0.45946,     0.46046,     0.46146,     0.46246,     0.46346,     0.46446,     0.46547,     0.46647,     0.46747,     0.46847,     0.46947,     0.47047,     0.47147,     0.47247,     0.47347,     0.47447,     0.47548,     0.47648,     0.47748,     0.47848,     0.47948,\n",
       "           0.48048,     0.48148,     0.48248,     0.48348,     0.48448,     0.48549,     0.48649,     0.48749,     0.48849,     0.48949,     0.49049,     0.49149,     0.49249,     0.49349,     0.49449,      0.4955,      0.4965,      0.4975,      0.4985,      0.4995,      0.5005,      0.5015,      0.5025,      0.5035,\n",
       "            0.5045,     0.50551,     0.50651,     0.50751,     0.50851,     0.50951,     0.51051,     0.51151,     0.51251,     0.51351,     0.51451,     0.51552,     0.51652,     0.51752,     0.51852,     0.51952,     0.52052,     0.52152,     0.52252,     0.52352,     0.52452,     0.52553,     0.52653,     0.52753,\n",
       "           0.52853,     0.52953,     0.53053,     0.53153,     0.53253,     0.53353,     0.53453,     0.53554,     0.53654,     0.53754,     0.53854,     0.53954,     0.54054,     0.54154,     0.54254,     0.54354,     0.54454,     0.54555,     0.54655,     0.54755,     0.54855,     0.54955,     0.55055,     0.55155,\n",
       "           0.55255,     0.55355,     0.55455,     0.55556,     0.55656,     0.55756,     0.55856,     0.55956,     0.56056,     0.56156,     0.56256,     0.56356,     0.56456,     0.56557,     0.56657,     0.56757,     0.56857,     0.56957,     0.57057,     0.57157,     0.57257,     0.57357,     0.57457,     0.57558,\n",
       "           0.57658,     0.57758,     0.57858,     0.57958,     0.58058,     0.58158,     0.58258,     0.58358,     0.58458,     0.58559,     0.58659,     0.58759,     0.58859,     0.58959,     0.59059,     0.59159,     0.59259,     0.59359,     0.59459,      0.5956,      0.5966,      0.5976,      0.5986,      0.5996,\n",
       "            0.6006,      0.6016,      0.6026,      0.6036,      0.6046,     0.60561,     0.60661,     0.60761,     0.60861,     0.60961,     0.61061,     0.61161,     0.61261,     0.61361,     0.61461,     0.61562,     0.61662,     0.61762,     0.61862,     0.61962,     0.62062,     0.62162,     0.62262,     0.62362,\n",
       "           0.62462,     0.62563,     0.62663,     0.62763,     0.62863,     0.62963,     0.63063,     0.63163,     0.63263,     0.63363,     0.63463,     0.63564,     0.63664,     0.63764,     0.63864,     0.63964,     0.64064,     0.64164,     0.64264,     0.64364,     0.64464,     0.64565,     0.64665,     0.64765,\n",
       "           0.64865,     0.64965,     0.65065,     0.65165,     0.65265,     0.65365,     0.65465,     0.65566,     0.65666,     0.65766,     0.65866,     0.65966,     0.66066,     0.66166,     0.66266,     0.66366,     0.66466,     0.66567,     0.66667,     0.66767,     0.66867,     0.66967,     0.67067,     0.67167,\n",
       "           0.67267,     0.67367,     0.67467,     0.67568,     0.67668,     0.67768,     0.67868,     0.67968,     0.68068,     0.68168,     0.68268,     0.68368,     0.68468,     0.68569,     0.68669,     0.68769,     0.68869,     0.68969,     0.69069,     0.69169,     0.69269,     0.69369,     0.69469,      0.6957,\n",
       "            0.6967,      0.6977,      0.6987,      0.6997,      0.7007,      0.7017,      0.7027,      0.7037,      0.7047,     0.70571,     0.70671,     0.70771,     0.70871,     0.70971,     0.71071,     0.71171,     0.71271,     0.71371,     0.71471,     0.71572,     0.71672,     0.71772,     0.71872,     0.71972,\n",
       "           0.72072,     0.72172,     0.72272,     0.72372,     0.72472,     0.72573,     0.72673,     0.72773,     0.72873,     0.72973,     0.73073,     0.73173,     0.73273,     0.73373,     0.73473,     0.73574,     0.73674,     0.73774,     0.73874,     0.73974,     0.74074,     0.74174,     0.74274,     0.74374,\n",
       "           0.74474,     0.74575,     0.74675,     0.74775,     0.74875,     0.74975,     0.75075,     0.75175,     0.75275,     0.75375,     0.75475,     0.75576,     0.75676,     0.75776,     0.75876,     0.75976,     0.76076,     0.76176,     0.76276,     0.76376,     0.76476,     0.76577,     0.76677,     0.76777,\n",
       "           0.76877,     0.76977,     0.77077,     0.77177,     0.77277,     0.77377,     0.77477,     0.77578,     0.77678,     0.77778,     0.77878,     0.77978,     0.78078,     0.78178,     0.78278,     0.78378,     0.78478,     0.78579,     0.78679,     0.78779,     0.78879,     0.78979,     0.79079,     0.79179,\n",
       "           0.79279,     0.79379,     0.79479,      0.7958,      0.7968,      0.7978,      0.7988,      0.7998,      0.8008,      0.8018,      0.8028,      0.8038,      0.8048,     0.80581,     0.80681,     0.80781,     0.80881,     0.80981,     0.81081,     0.81181,     0.81281,     0.81381,     0.81481,     0.81582,\n",
       "           0.81682,     0.81782,     0.81882,     0.81982,     0.82082,     0.82182,     0.82282,     0.82382,     0.82482,     0.82583,     0.82683,     0.82783,     0.82883,     0.82983,     0.83083,     0.83183,     0.83283,     0.83383,     0.83483,     0.83584,     0.83684,     0.83784,     0.83884,     0.83984,\n",
       "           0.84084,     0.84184,     0.84284,     0.84384,     0.84484,     0.84585,     0.84685,     0.84785,     0.84885,     0.84985,     0.85085,     0.85185,     0.85285,     0.85385,     0.85485,     0.85586,     0.85686,     0.85786,     0.85886,     0.85986,     0.86086,     0.86186,     0.86286,     0.86386,\n",
       "           0.86486,     0.86587,     0.86687,     0.86787,     0.86887,     0.86987,     0.87087,     0.87187,     0.87287,     0.87387,     0.87487,     0.87588,     0.87688,     0.87788,     0.87888,     0.87988,     0.88088,     0.88188,     0.88288,     0.88388,     0.88488,     0.88589,     0.88689,     0.88789,\n",
       "           0.88889,     0.88989,     0.89089,     0.89189,     0.89289,     0.89389,     0.89489,      0.8959,      0.8969,      0.8979,      0.8989,      0.8999,      0.9009,      0.9019,      0.9029,      0.9039,      0.9049,     0.90591,     0.90691,     0.90791,     0.90891,     0.90991,     0.91091,     0.91191,\n",
       "           0.91291,     0.91391,     0.91491,     0.91592,     0.91692,     0.91792,     0.91892,     0.91992,     0.92092,     0.92192,     0.92292,     0.92392,     0.92492,     0.92593,     0.92693,     0.92793,     0.92893,     0.92993,     0.93093,     0.93193,     0.93293,     0.93393,     0.93493,     0.93594,\n",
       "           0.93694,     0.93794,     0.93894,     0.93994,     0.94094,     0.94194,     0.94294,     0.94394,     0.94494,     0.94595,     0.94695,     0.94795,     0.94895,     0.94995,     0.95095,     0.95195,     0.95295,     0.95395,     0.95495,     0.95596,     0.95696,     0.95796,     0.95896,     0.95996,\n",
       "           0.96096,     0.96196,     0.96296,     0.96396,     0.96496,     0.96597,     0.96697,     0.96797,     0.96897,     0.96997,     0.97097,     0.97197,     0.97297,     0.97397,     0.97497,     0.97598,     0.97698,     0.97798,     0.97898,     0.97998,     0.98098,     0.98198,     0.98298,     0.98398,\n",
       "           0.98498,     0.98599,     0.98699,     0.98799,     0.98899,     0.98999,     0.99099,     0.99199,     0.99299,     0.99399,     0.99499,       0.996,       0.997,       0.998,       0.999,           1]), array([[    0.57521,     0.57521,     0.57521,      0.5764,     0.58027,     0.59353,     0.60991,     0.62309,     0.64182,     0.65671,     0.67072,     0.68133,     0.69166,     0.70182,     0.71572,     0.72339,     0.73084,     0.73999,     0.74577,     0.75331,     0.76384,     0.76827,     0.77475,\n",
       "            0.78357,     0.79117,     0.79894,      0.8083,     0.81521,     0.82313,      0.8304,     0.83793,     0.84455,     0.85123,     0.85578,     0.86088,     0.86576,     0.86827,      0.8726,     0.87776,     0.88107,      0.8846,     0.88979,     0.89244,     0.89569,     0.89749,     0.90097,\n",
       "            0.90425,     0.90618,     0.90835,     0.90955,      0.9112,     0.91365,     0.91531,     0.91677,     0.91925,     0.92083,     0.92214,      0.9232,     0.92479,     0.92549,     0.92617,     0.92645,      0.9267,     0.92761,     0.92846,     0.92978,     0.93027,     0.93098,     0.93219,\n",
       "            0.93293,     0.93433,     0.93459,      0.9351,     0.93528,     0.93678,       0.937,     0.93725,     0.93745,     0.93765,     0.93834,     0.93873,     0.93931,     0.94039,     0.94069,     0.94129,     0.94164,     0.94282,     0.94389,     0.94485,     0.94517,     0.94544,     0.94566,\n",
       "            0.94565,     0.94605,     0.94672,     0.94702,     0.94761,     0.94773,     0.94785,     0.94857,     0.94905,     0.94993,     0.95008,     0.95024,     0.95039,     0.95054,     0.95102,     0.95192,     0.95248,     0.95318,     0.95351,     0.95379,     0.95459,     0.95498,     0.95521,\n",
       "            0.95548,     0.95607,     0.95637,     0.95671,     0.95712,     0.95741,     0.95767,     0.95815,     0.95874,     0.95916,     0.95915,     0.95942,     0.95992,      0.9602,     0.96033,     0.96046,      0.9608,      0.9609,     0.96108,     0.96141,     0.96194,     0.96318,     0.96361,\n",
       "            0.96382,     0.96382,     0.96385,     0.96404,     0.96421,     0.96434,     0.96448,     0.96466,     0.96483,     0.96497,     0.96511,     0.96586,       0.966,     0.96614,     0.96656,     0.96678,     0.96728,     0.96753,     0.96753,     0.96756,     0.96818,     0.96858,     0.96864,\n",
       "             0.9687,     0.96875,     0.96881,     0.96887,     0.96925,     0.96935,     0.96946,     0.96956,     0.96995,     0.97002,      0.9701,     0.97018,     0.97025,      0.9708,     0.97145,     0.97201,     0.97248,     0.97278,     0.97315,     0.97412,     0.97422,     0.97432,     0.97443,\n",
       "            0.97458,     0.97473,     0.97514,     0.97528,     0.97542,     0.97553,     0.97562,     0.97572,     0.97588,     0.97685,     0.97704,     0.97725,     0.97754,     0.97772,      0.9779,     0.97819,     0.97827,     0.97831,     0.97835,     0.97839,     0.97844,     0.97848,     0.97852,\n",
       "            0.97857,     0.97969,     0.97978,     0.97987,     0.97996,     0.98003,      0.9801,     0.98016,     0.98023,      0.9803,     0.98033,     0.98033,     0.98033,     0.98032,     0.98032,     0.98032,     0.98082,     0.98108,     0.98132,     0.98137,     0.98137,     0.98137,     0.98137,\n",
       "            0.98137,     0.98137,     0.98137,     0.98137,     0.98137,     0.98136,     0.98136,     0.98136,     0.98136,     0.98165,     0.98171,     0.98171,     0.98171,      0.9817,      0.9817,     0.98173,     0.98197,     0.98237,      0.9825,     0.98259,     0.98269,     0.98311,     0.98311,\n",
       "            0.98311,     0.98316,     0.98332,     0.98346,     0.98346,     0.98346,     0.98346,     0.98346,     0.98346,     0.98346,     0.98345,     0.98345,     0.98345,     0.98352,     0.98368,     0.98381,      0.9838,     0.98414,     0.98426,     0.98442,     0.98449,     0.98448,     0.98448,\n",
       "            0.98448,     0.98447,     0.98447,     0.98447,     0.98453,     0.98464,     0.98475,     0.98483,     0.98483,     0.98483,     0.98482,     0.98482,     0.98482,     0.98482,     0.98482,     0.98489,     0.98513,     0.98517,     0.98518,     0.98525,     0.98533,      0.9854,     0.98547,\n",
       "            0.98553,     0.98553,     0.98553,     0.98552,     0.98552,     0.98564,     0.98587,     0.98587,     0.98586,     0.98629,     0.98657,     0.98657,     0.98657,     0.98657,     0.98657,     0.98657,     0.98657,     0.98657,     0.98657,     0.98657,     0.98657,     0.98657,     0.98657,\n",
       "            0.98657,     0.98657,     0.98692,     0.98692,     0.98694,     0.98699,     0.98704,      0.9871,     0.98715,      0.9872,     0.98725,     0.98732,     0.98738,     0.98745,     0.98752,     0.98758,     0.98764,     0.98763,     0.98763,     0.98763,     0.98763,     0.98763,     0.98763,\n",
       "            0.98764,     0.98771,     0.98778,     0.98785,     0.98792,     0.98799,     0.98812,     0.98826,     0.98836,      0.9884,     0.98844,     0.98848,     0.98852,     0.98856,      0.9886,     0.98864,     0.98868,      0.9887,      0.9887,      0.9887,      0.9887,     0.98883,     0.98905,\n",
       "            0.98923,     0.98942,     0.98983,     0.99001,     0.99021,     0.99042,      0.9905,      0.9905,      0.9905,      0.9905,      0.9905,      0.9905,      0.9905,     0.99049,     0.99049,     0.99049,      0.9905,     0.99054,     0.99058,     0.99062,     0.99066,      0.9907,     0.99074,\n",
       "            0.99078,     0.99082,     0.99122,     0.99121,     0.99121,     0.99121,     0.99121,     0.99121,     0.99157,     0.99157,     0.99157,     0.99157,     0.99187,     0.99193,     0.99193,     0.99193,     0.99193,     0.99193,     0.99193,     0.99193,     0.99193,     0.99192,     0.99194,\n",
       "            0.99201,     0.99207,     0.99214,      0.9922,     0.99227,     0.99229,     0.99229,     0.99229,     0.99228,     0.99228,     0.99228,     0.99229,     0.99239,     0.99248,     0.99258,     0.99265,     0.99267,     0.99276,     0.99285,     0.99295,     0.99305,     0.99319,     0.99333,\n",
       "            0.99337,     0.99337,     0.99337,     0.99337,     0.99337,     0.99337,     0.99337,     0.99337,     0.99337,     0.99337,     0.99337,     0.99337,     0.99337,     0.99337,     0.99337,     0.99337,     0.99337,     0.99337,     0.99337,     0.99337,     0.99337,     0.99337,     0.99337,\n",
       "            0.99337,     0.99337,     0.99337,     0.99337,     0.99337,     0.99337,     0.99337,     0.99337,     0.99336,     0.99336,     0.99336,     0.99336,     0.99336,     0.99336,     0.99336,     0.99336,     0.99336,     0.99335,     0.99335,      0.9939,     0.99408,     0.99408,     0.99408,\n",
       "            0.99408,     0.99408,     0.99408,     0.99408,     0.99408,     0.99408,     0.99408,     0.99407,     0.99407,     0.99407,     0.99407,     0.99407,     0.99407,     0.99407,     0.99407,     0.99406,     0.99406,     0.99406,     0.99406,     0.99406,     0.99406,     0.99406,     0.99406,\n",
       "            0.99406,     0.99431,     0.99479,     0.99479,     0.99479,     0.99479,     0.99479,     0.99479,     0.99479,     0.99478,     0.99478,     0.99478,     0.99478,     0.99478,     0.99478,     0.99478,     0.99477,     0.99477,     0.99477,     0.99477,     0.99477,     0.99477,     0.99477,\n",
       "            0.99477,     0.99477,     0.99477,     0.99476,     0.99476,     0.99476,     0.99476,     0.99476,     0.99476,     0.99476,     0.99476,     0.99476,     0.99476,     0.99475,     0.99475,     0.99487,     0.99506,     0.99512,     0.99512,     0.99511,     0.99511,     0.99511,     0.99511,\n",
       "             0.9951,      0.9951,      0.9951,      0.9951,      0.9951,      0.9951,      0.9951,      0.9951,      0.9951,      0.9951,      0.9951,      0.9951,      0.9951,     0.99509,     0.99509,     0.99509,     0.99509,     0.99508,     0.99508,     0.99508,     0.99508,     0.99508,     0.99508,\n",
       "            0.99507,     0.99507,     0.99582,     0.99582,     0.99582,     0.99598,     0.99613,      0.9962,      0.9962,     0.99619,     0.99619,     0.99619,     0.99619,     0.99619,     0.99619,     0.99619,     0.99618,     0.99618,     0.99618,     0.99618,     0.99618,     0.99617,     0.99617,\n",
       "            0.99617,     0.99617,     0.99616,     0.99616,     0.99616,     0.99616,     0.99616,     0.99615,     0.99615,     0.99615,     0.99615,     0.99615,     0.99653,     0.99653,     0.99653,     0.99653,     0.99652,     0.99652,     0.99652,     0.99651,     0.99651,     0.99651,     0.99651,\n",
       "            0.99651,     0.99651,     0.99651,     0.99651,      0.9965,      0.9965,     0.99649,     0.99649,     0.99649,     0.99649,     0.99688,     0.99687,     0.99687,     0.99687,     0.99687,     0.99726,     0.99726,     0.99726,     0.99726,     0.99725,     0.99725,     0.99725,     0.99725,\n",
       "            0.99725,     0.99724,     0.99724,     0.99724,     0.99724,     0.99723,     0.99723,     0.99723,     0.99723,     0.99723,     0.99722,     0.99722,     0.99722,     0.99722,     0.99722,     0.99722,     0.99722,     0.99721,     0.99721,     0.99721,     0.99721,      0.9972,      0.9972,\n",
       "             0.9972,      0.9972,      0.9972,     0.99719,     0.99719,     0.99719,     0.99718,     0.99718,     0.99717,     0.99717,     0.99717,     0.99716,     0.99716,     0.99716,     0.99715,     0.99715,     0.99715,     0.99715,     0.99755,     0.99755,     0.99754,     0.99754,     0.99754,\n",
       "            0.99753,     0.99753,     0.99753,     0.99753,     0.99753,     0.99751,     0.99751,     0.99751,      0.9975,      0.9975,      0.9975,     0.99749,     0.99749,     0.99748,     0.99748,     0.99748,     0.99747,     0.99747,     0.99746,     0.99746,     0.99787,     0.99829,     0.99829,\n",
       "            0.99828,     0.99828,     0.99827,     0.99827,     0.99827,     0.99826,     0.99826,     0.99826,     0.99825,     0.99824,     0.99823,     0.99823,     0.99822,     0.99822,     0.99822,     0.99866,     0.99866,     0.99865,     0.99865,     0.99864,     0.99864,     0.99864,     0.99863,\n",
       "            0.99862,     0.99862,     0.99862,     0.99861,      0.9986,      0.9986,     0.99859,     0.99859,     0.99858,     0.99857,     0.99857,     0.99856,     0.99856,     0.99856,     0.99854,     0.99853,     0.99853,     0.99852,      0.9985,      0.9985,     0.99849,     0.99848,     0.99897,\n",
       "            0.99897,     0.99896,     0.99895,     0.99894,     0.99894,     0.99893,     0.99892,     0.99892,     0.99891,     0.99889,     0.99888,     0.99888,     0.99887,     0.99885,     0.99885,     0.99884,     0.99882,     0.99882,     0.99881,     0.99879,     0.99877,     0.99875,     0.99875,\n",
       "            0.99873,     0.99872,     0.99869,     0.99869,     0.99867,     0.99863,     0.99861,     0.99861,     0.99858,     0.99855,     0.99853,     0.99853,     0.99925,     0.99923,     0.99921,     0.99919,     0.99919,     0.99917,     0.99915,     0.99914,     0.99912,     0.99909,     0.99909,\n",
       "            0.99907,     0.99904,     0.99902,     0.99898,     0.99898,     0.99895,     0.99891,     0.99888,     0.99884,     0.99881,     0.99881,     0.99876,     0.99872,     0.99868,     0.99864,      0.9986,     0.99855,     0.99848,     0.99842,     0.99842,     0.99837,     0.99832,     0.99826,\n",
       "            0.99821,           1,           1,           1,           1,           1,           1,           1,           1,           1,           1,           1,           1,           1,           1,           1,           1,           1,           1,           1,           1,           1,           1,\n",
       "                  1,           1,           1,           1,           1,           1,           1,           1,           1,           1,           1,           1,           1,           1,           1,           1,           1,           1,           1,           1,           1,           1,           1,\n",
       "                  1,           1,           1,           1,           1,           1,           1,           1,           1,           1,           1,           1,           1,           1,           1,           1,           1,           1,           1,           1,           1,           1,           1,\n",
       "                  1,           1,           1,           1,           1,           1,           1,           1,           1,           1,           1,           1,           1,           1,           1,           1,           1,           1,           1,           1,           1,           1,           1,\n",
       "                  1,           1,           1,           1,           1,           1,           1,           1,           1,           1,           1,           1,           1,           1,           1,           1,           1,           1,           1,           1,           1,           1,           1,\n",
       "                  1,           1,           1,           1,           1,           1,           1,           1,           1,           1,           1,           1,           1,           1,           1,           1,           1,           1,           1,           1,           1,           1,           1,\n",
       "                  1,           1,           1,           1,           1,           1,           1,           1,           1,           1,           1,           1,           1,           1,           1,           1,           1,           1,           1,           1,           1,           1,           1,\n",
       "                  1,           1,           1,           1,           1,           1,           1,           1,           1,           1,           1]]), 'Confidence', 'Precision'], [array([          0,    0.001001,    0.002002,    0.003003,    0.004004,    0.005005,    0.006006,    0.007007,    0.008008,    0.009009,     0.01001,    0.011011,    0.012012,    0.013013,    0.014014,    0.015015,    0.016016,    0.017017,    0.018018,    0.019019,     0.02002,    0.021021,    0.022022,    0.023023,\n",
       "          0.024024,    0.025025,    0.026026,    0.027027,    0.028028,    0.029029,     0.03003,    0.031031,    0.032032,    0.033033,    0.034034,    0.035035,    0.036036,    0.037037,    0.038038,    0.039039,     0.04004,    0.041041,    0.042042,    0.043043,    0.044044,    0.045045,    0.046046,    0.047047,\n",
       "          0.048048,    0.049049,     0.05005,    0.051051,    0.052052,    0.053053,    0.054054,    0.055055,    0.056056,    0.057057,    0.058058,    0.059059,     0.06006,    0.061061,    0.062062,    0.063063,    0.064064,    0.065065,    0.066066,    0.067067,    0.068068,    0.069069,     0.07007,    0.071071,\n",
       "          0.072072,    0.073073,    0.074074,    0.075075,    0.076076,    0.077077,    0.078078,    0.079079,     0.08008,    0.081081,    0.082082,    0.083083,    0.084084,    0.085085,    0.086086,    0.087087,    0.088088,    0.089089,     0.09009,    0.091091,    0.092092,    0.093093,    0.094094,    0.095095,\n",
       "          0.096096,    0.097097,    0.098098,    0.099099,      0.1001,      0.1011,      0.1021,      0.1031,      0.1041,     0.10511,     0.10611,     0.10711,     0.10811,     0.10911,     0.11011,     0.11111,     0.11211,     0.11311,     0.11411,     0.11512,     0.11612,     0.11712,     0.11812,     0.11912,\n",
       "           0.12012,     0.12112,     0.12212,     0.12312,     0.12412,     0.12513,     0.12613,     0.12713,     0.12813,     0.12913,     0.13013,     0.13113,     0.13213,     0.13313,     0.13413,     0.13514,     0.13614,     0.13714,     0.13814,     0.13914,     0.14014,     0.14114,     0.14214,     0.14314,\n",
       "           0.14414,     0.14515,     0.14615,     0.14715,     0.14815,     0.14915,     0.15015,     0.15115,     0.15215,     0.15315,     0.15415,     0.15516,     0.15616,     0.15716,     0.15816,     0.15916,     0.16016,     0.16116,     0.16216,     0.16316,     0.16416,     0.16517,     0.16617,     0.16717,\n",
       "           0.16817,     0.16917,     0.17017,     0.17117,     0.17217,     0.17317,     0.17417,     0.17518,     0.17618,     0.17718,     0.17818,     0.17918,     0.18018,     0.18118,     0.18218,     0.18318,     0.18418,     0.18519,     0.18619,     0.18719,     0.18819,     0.18919,     0.19019,     0.19119,\n",
       "           0.19219,     0.19319,     0.19419,      0.1952,      0.1962,      0.1972,      0.1982,      0.1992,      0.2002,      0.2012,      0.2022,      0.2032,      0.2042,     0.20521,     0.20621,     0.20721,     0.20821,     0.20921,     0.21021,     0.21121,     0.21221,     0.21321,     0.21421,     0.21522,\n",
       "           0.21622,     0.21722,     0.21822,     0.21922,     0.22022,     0.22122,     0.22222,     0.22322,     0.22422,     0.22523,     0.22623,     0.22723,     0.22823,     0.22923,     0.23023,     0.23123,     0.23223,     0.23323,     0.23423,     0.23524,     0.23624,     0.23724,     0.23824,     0.23924,\n",
       "           0.24024,     0.24124,     0.24224,     0.24324,     0.24424,     0.24525,     0.24625,     0.24725,     0.24825,     0.24925,     0.25025,     0.25125,     0.25225,     0.25325,     0.25425,     0.25526,     0.25626,     0.25726,     0.25826,     0.25926,     0.26026,     0.26126,     0.26226,     0.26326,\n",
       "           0.26426,     0.26527,     0.26627,     0.26727,     0.26827,     0.26927,     0.27027,     0.27127,     0.27227,     0.27327,     0.27427,     0.27528,     0.27628,     0.27728,     0.27828,     0.27928,     0.28028,     0.28128,     0.28228,     0.28328,     0.28428,     0.28529,     0.28629,     0.28729,\n",
       "           0.28829,     0.28929,     0.29029,     0.29129,     0.29229,     0.29329,     0.29429,      0.2953,      0.2963,      0.2973,      0.2983,      0.2993,      0.3003,      0.3013,      0.3023,      0.3033,      0.3043,     0.30531,     0.30631,     0.30731,     0.30831,     0.30931,     0.31031,     0.31131,\n",
       "           0.31231,     0.31331,     0.31431,     0.31532,     0.31632,     0.31732,     0.31832,     0.31932,     0.32032,     0.32132,     0.32232,     0.32332,     0.32432,     0.32533,     0.32633,     0.32733,     0.32833,     0.32933,     0.33033,     0.33133,     0.33233,     0.33333,     0.33433,     0.33534,\n",
       "           0.33634,     0.33734,     0.33834,     0.33934,     0.34034,     0.34134,     0.34234,     0.34334,     0.34434,     0.34535,     0.34635,     0.34735,     0.34835,     0.34935,     0.35035,     0.35135,     0.35235,     0.35335,     0.35435,     0.35536,     0.35636,     0.35736,     0.35836,     0.35936,\n",
       "           0.36036,     0.36136,     0.36236,     0.36336,     0.36436,     0.36537,     0.36637,     0.36737,     0.36837,     0.36937,     0.37037,     0.37137,     0.37237,     0.37337,     0.37437,     0.37538,     0.37638,     0.37738,     0.37838,     0.37938,     0.38038,     0.38138,     0.38238,     0.38338,\n",
       "           0.38438,     0.38539,     0.38639,     0.38739,     0.38839,     0.38939,     0.39039,     0.39139,     0.39239,     0.39339,     0.39439,      0.3954,      0.3964,      0.3974,      0.3984,      0.3994,      0.4004,      0.4014,      0.4024,      0.4034,      0.4044,     0.40541,     0.40641,     0.40741,\n",
       "           0.40841,     0.40941,     0.41041,     0.41141,     0.41241,     0.41341,     0.41441,     0.41542,     0.41642,     0.41742,     0.41842,     0.41942,     0.42042,     0.42142,     0.42242,     0.42342,     0.42442,     0.42543,     0.42643,     0.42743,     0.42843,     0.42943,     0.43043,     0.43143,\n",
       "           0.43243,     0.43343,     0.43443,     0.43544,     0.43644,     0.43744,     0.43844,     0.43944,     0.44044,     0.44144,     0.44244,     0.44344,     0.44444,     0.44545,     0.44645,     0.44745,     0.44845,     0.44945,     0.45045,     0.45145,     0.45245,     0.45345,     0.45445,     0.45546,\n",
       "           0.45646,     0.45746,     0.45846,     0.45946,     0.46046,     0.46146,     0.46246,     0.46346,     0.46446,     0.46547,     0.46647,     0.46747,     0.46847,     0.46947,     0.47047,     0.47147,     0.47247,     0.47347,     0.47447,     0.47548,     0.47648,     0.47748,     0.47848,     0.47948,\n",
       "           0.48048,     0.48148,     0.48248,     0.48348,     0.48448,     0.48549,     0.48649,     0.48749,     0.48849,     0.48949,     0.49049,     0.49149,     0.49249,     0.49349,     0.49449,      0.4955,      0.4965,      0.4975,      0.4985,      0.4995,      0.5005,      0.5015,      0.5025,      0.5035,\n",
       "            0.5045,     0.50551,     0.50651,     0.50751,     0.50851,     0.50951,     0.51051,     0.51151,     0.51251,     0.51351,     0.51451,     0.51552,     0.51652,     0.51752,     0.51852,     0.51952,     0.52052,     0.52152,     0.52252,     0.52352,     0.52452,     0.52553,     0.52653,     0.52753,\n",
       "           0.52853,     0.52953,     0.53053,     0.53153,     0.53253,     0.53353,     0.53453,     0.53554,     0.53654,     0.53754,     0.53854,     0.53954,     0.54054,     0.54154,     0.54254,     0.54354,     0.54454,     0.54555,     0.54655,     0.54755,     0.54855,     0.54955,     0.55055,     0.55155,\n",
       "           0.55255,     0.55355,     0.55455,     0.55556,     0.55656,     0.55756,     0.55856,     0.55956,     0.56056,     0.56156,     0.56256,     0.56356,     0.56456,     0.56557,     0.56657,     0.56757,     0.56857,     0.56957,     0.57057,     0.57157,     0.57257,     0.57357,     0.57457,     0.57558,\n",
       "           0.57658,     0.57758,     0.57858,     0.57958,     0.58058,     0.58158,     0.58258,     0.58358,     0.58458,     0.58559,     0.58659,     0.58759,     0.58859,     0.58959,     0.59059,     0.59159,     0.59259,     0.59359,     0.59459,      0.5956,      0.5966,      0.5976,      0.5986,      0.5996,\n",
       "            0.6006,      0.6016,      0.6026,      0.6036,      0.6046,     0.60561,     0.60661,     0.60761,     0.60861,     0.60961,     0.61061,     0.61161,     0.61261,     0.61361,     0.61461,     0.61562,     0.61662,     0.61762,     0.61862,     0.61962,     0.62062,     0.62162,     0.62262,     0.62362,\n",
       "           0.62462,     0.62563,     0.62663,     0.62763,     0.62863,     0.62963,     0.63063,     0.63163,     0.63263,     0.63363,     0.63463,     0.63564,     0.63664,     0.63764,     0.63864,     0.63964,     0.64064,     0.64164,     0.64264,     0.64364,     0.64464,     0.64565,     0.64665,     0.64765,\n",
       "           0.64865,     0.64965,     0.65065,     0.65165,     0.65265,     0.65365,     0.65465,     0.65566,     0.65666,     0.65766,     0.65866,     0.65966,     0.66066,     0.66166,     0.66266,     0.66366,     0.66466,     0.66567,     0.66667,     0.66767,     0.66867,     0.66967,     0.67067,     0.67167,\n",
       "           0.67267,     0.67367,     0.67467,     0.67568,     0.67668,     0.67768,     0.67868,     0.67968,     0.68068,     0.68168,     0.68268,     0.68368,     0.68468,     0.68569,     0.68669,     0.68769,     0.68869,     0.68969,     0.69069,     0.69169,     0.69269,     0.69369,     0.69469,      0.6957,\n",
       "            0.6967,      0.6977,      0.6987,      0.6997,      0.7007,      0.7017,      0.7027,      0.7037,      0.7047,     0.70571,     0.70671,     0.70771,     0.70871,     0.70971,     0.71071,     0.71171,     0.71271,     0.71371,     0.71471,     0.71572,     0.71672,     0.71772,     0.71872,     0.71972,\n",
       "           0.72072,     0.72172,     0.72272,     0.72372,     0.72472,     0.72573,     0.72673,     0.72773,     0.72873,     0.72973,     0.73073,     0.73173,     0.73273,     0.73373,     0.73473,     0.73574,     0.73674,     0.73774,     0.73874,     0.73974,     0.74074,     0.74174,     0.74274,     0.74374,\n",
       "           0.74474,     0.74575,     0.74675,     0.74775,     0.74875,     0.74975,     0.75075,     0.75175,     0.75275,     0.75375,     0.75475,     0.75576,     0.75676,     0.75776,     0.75876,     0.75976,     0.76076,     0.76176,     0.76276,     0.76376,     0.76476,     0.76577,     0.76677,     0.76777,\n",
       "           0.76877,     0.76977,     0.77077,     0.77177,     0.77277,     0.77377,     0.77477,     0.77578,     0.77678,     0.77778,     0.77878,     0.77978,     0.78078,     0.78178,     0.78278,     0.78378,     0.78478,     0.78579,     0.78679,     0.78779,     0.78879,     0.78979,     0.79079,     0.79179,\n",
       "           0.79279,     0.79379,     0.79479,      0.7958,      0.7968,      0.7978,      0.7988,      0.7998,      0.8008,      0.8018,      0.8028,      0.8038,      0.8048,     0.80581,     0.80681,     0.80781,     0.80881,     0.80981,     0.81081,     0.81181,     0.81281,     0.81381,     0.81481,     0.81582,\n",
       "           0.81682,     0.81782,     0.81882,     0.81982,     0.82082,     0.82182,     0.82282,     0.82382,     0.82482,     0.82583,     0.82683,     0.82783,     0.82883,     0.82983,     0.83083,     0.83183,     0.83283,     0.83383,     0.83483,     0.83584,     0.83684,     0.83784,     0.83884,     0.83984,\n",
       "           0.84084,     0.84184,     0.84284,     0.84384,     0.84484,     0.84585,     0.84685,     0.84785,     0.84885,     0.84985,     0.85085,     0.85185,     0.85285,     0.85385,     0.85485,     0.85586,     0.85686,     0.85786,     0.85886,     0.85986,     0.86086,     0.86186,     0.86286,     0.86386,\n",
       "           0.86486,     0.86587,     0.86687,     0.86787,     0.86887,     0.86987,     0.87087,     0.87187,     0.87287,     0.87387,     0.87487,     0.87588,     0.87688,     0.87788,     0.87888,     0.87988,     0.88088,     0.88188,     0.88288,     0.88388,     0.88488,     0.88589,     0.88689,     0.88789,\n",
       "           0.88889,     0.88989,     0.89089,     0.89189,     0.89289,     0.89389,     0.89489,      0.8959,      0.8969,      0.8979,      0.8989,      0.8999,      0.9009,      0.9019,      0.9029,      0.9039,      0.9049,     0.90591,     0.90691,     0.90791,     0.90891,     0.90991,     0.91091,     0.91191,\n",
       "           0.91291,     0.91391,     0.91491,     0.91592,     0.91692,     0.91792,     0.91892,     0.91992,     0.92092,     0.92192,     0.92292,     0.92392,     0.92492,     0.92593,     0.92693,     0.92793,     0.92893,     0.92993,     0.93093,     0.93193,     0.93293,     0.93393,     0.93493,     0.93594,\n",
       "           0.93694,     0.93794,     0.93894,     0.93994,     0.94094,     0.94194,     0.94294,     0.94394,     0.94494,     0.94595,     0.94695,     0.94795,     0.94895,     0.94995,     0.95095,     0.95195,     0.95295,     0.95395,     0.95495,     0.95596,     0.95696,     0.95796,     0.95896,     0.95996,\n",
       "           0.96096,     0.96196,     0.96296,     0.96396,     0.96496,     0.96597,     0.96697,     0.96797,     0.96897,     0.96997,     0.97097,     0.97197,     0.97297,     0.97397,     0.97497,     0.97598,     0.97698,     0.97798,     0.97898,     0.97998,     0.98098,     0.98198,     0.98298,     0.98398,\n",
       "           0.98498,     0.98599,     0.98699,     0.98799,     0.98899,     0.98999,     0.99099,     0.99199,     0.99299,     0.99399,     0.99499,       0.996,       0.997,       0.998,       0.999,           1]), array([[     0.8807,      0.8807,      0.8807,      0.8807,      0.8807,      0.8807,      0.8807,      0.8807,      0.8807,      0.8807,     0.88038,     0.88006,     0.88006,     0.88006,     0.88006,     0.88006,     0.88006,     0.88006,     0.88006,     0.88006,     0.88006,     0.88006,     0.88006,\n",
       "            0.88006,     0.88006,     0.88006,     0.88006,     0.88006,     0.88006,     0.88006,     0.88006,     0.88006,     0.88006,     0.87974,     0.87974,     0.87943,     0.87943,     0.87943,     0.87943,     0.87943,     0.87943,     0.87943,     0.87943,     0.87911,     0.87911,     0.87879,\n",
       "            0.87879,     0.87879,     0.87879,     0.87879,     0.87879,     0.87879,     0.87879,     0.87879,     0.87872,     0.87847,     0.87847,     0.87815,     0.87815,     0.87783,     0.87783,     0.87783,     0.87783,     0.87783,     0.87783,     0.87783,     0.87783,     0.87783,     0.87783,\n",
       "            0.87783,     0.87783,     0.87783,     0.87776,     0.87751,     0.87751,     0.87751,     0.87751,     0.87751,     0.87751,     0.87751,     0.87751,     0.87751,     0.87751,     0.87751,     0.87751,     0.87751,     0.87751,     0.87751,     0.87751,     0.87751,     0.87719,     0.87713,\n",
       "            0.87693,     0.87687,     0.87687,     0.87687,     0.87687,     0.87687,     0.87687,     0.87687,     0.87687,     0.87687,     0.87687,     0.87687,     0.87687,     0.87687,     0.87687,     0.87687,     0.87687,     0.87672,     0.87656,     0.87656,     0.87656,     0.87656,     0.87656,\n",
       "            0.87656,     0.87656,     0.87656,     0.87656,     0.87656,     0.87656,     0.87656,     0.87656,     0.87656,     0.87647,     0.87624,     0.87624,     0.87592,     0.87592,     0.87592,     0.87592,     0.87571,      0.8756,      0.8756,      0.8756,      0.8756,      0.8756,      0.8756,\n",
       "             0.8756,     0.87535,     0.87496,     0.87496,     0.87496,     0.87496,     0.87496,     0.87496,     0.87496,     0.87496,     0.87496,     0.87496,     0.87496,     0.87496,     0.87496,     0.87496,     0.87496,     0.87456,     0.87444,     0.87432,     0.87432,     0.87432,     0.87432,\n",
       "            0.87432,     0.87432,     0.87432,     0.87432,     0.87432,     0.87432,     0.87432,     0.87432,     0.87432,     0.87432,     0.87432,     0.87432,     0.87432,     0.87432,     0.87432,     0.87432,     0.87432,     0.87432,     0.87432,     0.87432,     0.87432,     0.87432,     0.87432,\n",
       "            0.87432,     0.87432,     0.87432,     0.87432,     0.87432,     0.87432,     0.87432,     0.87432,     0.87432,     0.87432,     0.87432,     0.87432,     0.87432,     0.87432,     0.87432,     0.87432,     0.87432,     0.87432,     0.87432,     0.87432,     0.87432,     0.87432,     0.87432,\n",
       "            0.87432,     0.87432,     0.87432,     0.87432,     0.87432,     0.87432,     0.87432,     0.87432,     0.87432,     0.87432,     0.87429,     0.87424,     0.87419,     0.87413,     0.87408,     0.87403,       0.874,       0.874,       0.874,     0.87393,     0.87384,     0.87375,     0.87367,\n",
       "            0.87364,     0.87361,     0.87357,     0.87354,     0.87351,     0.87348,     0.87344,     0.87341,     0.87338,     0.87337,     0.87316,     0.87301,     0.87294,     0.87286,     0.87279,     0.87273,     0.87273,     0.87273,     0.87273,     0.87273,     0.87273,      0.8727,     0.87259,\n",
       "            0.87248,     0.87241,     0.87241,      0.8724,     0.87237,     0.87234,     0.87231,     0.87227,     0.87224,     0.87221,     0.87217,     0.87214,     0.87211,     0.87209,     0.87209,     0.87202,     0.87167,     0.87092,     0.87081,     0.87081,     0.87063,     0.87024,     0.86985,\n",
       "            0.86978,     0.86971,     0.86964,     0.86957,     0.86954,     0.86954,     0.86954,     0.86952,     0.86949,     0.86945,     0.86941,     0.86937,     0.86933,     0.86929,     0.86925,     0.86922,     0.86922,     0.86907,      0.8689,      0.8689,      0.8689,      0.8689,      0.8689,\n",
       "            0.86888,     0.86881,     0.86873,     0.86865,     0.86855,     0.86794,     0.86787,     0.86769,     0.86733,      0.8673,      0.8673,     0.86728,     0.86726,     0.86723,     0.86721,     0.86719,     0.86717,     0.86714,     0.86712,      0.8671,     0.86708,     0.86706,     0.86703,\n",
       "            0.86701,     0.86699,     0.86665,     0.86646,     0.86635,     0.86635,     0.86635,     0.86635,     0.86635,     0.86635,     0.86635,     0.86635,     0.86635,     0.86635,     0.86635,     0.86635,     0.86633,     0.86624,     0.86614,     0.86605,     0.86596,     0.86587,     0.86579,\n",
       "            0.86571,     0.86571,     0.86571,     0.86571,     0.86571,     0.86571,     0.86571,     0.86571,     0.86571,     0.86571,     0.86571,     0.86571,     0.86571,     0.86571,     0.86571,     0.86571,     0.86571,     0.86536,     0.86528,     0.86519,      0.8651,     0.86507,     0.86507,\n",
       "            0.86507,     0.86507,     0.86507,     0.86507,     0.86507,     0.86507,     0.86488,     0.86471,     0.86464,     0.86457,      0.8645,     0.86443,     0.86425,     0.86408,     0.86398,     0.86387,      0.8638,      0.8638,      0.8638,      0.8638,      0.8638,      0.8638,      0.8638,\n",
       "             0.8638,      0.8638,     0.86378,     0.86359,     0.86345,     0.86336,     0.86328,      0.8632,     0.86312,     0.86303,     0.86294,     0.86286,     0.86252,     0.86248,     0.86243,     0.86238,     0.86233,     0.86229,     0.86224,     0.86217,     0.86206,     0.86196,     0.86188,\n",
       "            0.86188,     0.86188,     0.86188,     0.86188,     0.86188,      0.8618,     0.86169,     0.86159,     0.86149,     0.86141,     0.86132,     0.86124,     0.86124,     0.86124,     0.86124,     0.86117,     0.86061,     0.86061,     0.86061,     0.86061,     0.86061,     0.86061,     0.86061,\n",
       "            0.86059,     0.86058,     0.86056,     0.86055,     0.86053,     0.86051,      0.8605,     0.86048,     0.86046,     0.86045,     0.86043,     0.86041,      0.8604,     0.86038,     0.86036,     0.86035,     0.86033,     0.86031,      0.8603,     0.86028,     0.86025,     0.86022,     0.86019,\n",
       "            0.86016,     0.86013,      0.8601,     0.86007,     0.86004,     0.86001,     0.85998,     0.85975,     0.85954,     0.85937,     0.85928,     0.85922,     0.85915,     0.85909,     0.85902,     0.85873,      0.8584,     0.85807,     0.85743,     0.85742,     0.85741,     0.85709,     0.85701,\n",
       "            0.85693,     0.85685,     0.85677,     0.85669,      0.8566,     0.85652,     0.85638,     0.85612,     0.85604,     0.85596,     0.85587,     0.85576,      0.8556,     0.85537,     0.85504,     0.85472,     0.85447,      0.8543,      0.8542,     0.85414,     0.85409,     0.85403,     0.85398,\n",
       "            0.85393,     0.85359,     0.85347,     0.85331,     0.85283,     0.85267,      0.8525,     0.85234,      0.8519,     0.85179,     0.85168,     0.85157,     0.85147,     0.85136,      0.8504,     0.85029,     0.85018,     0.85005,     0.84942,     0.84926,     0.84911,     0.84905,     0.84898,\n",
       "            0.84892,     0.84885,     0.84871,     0.84843,     0.84827,     0.84815,     0.84811,     0.84807,     0.84803,     0.84799,     0.84795,     0.84791,     0.84787,      0.8468,     0.84664,     0.84625,     0.84625,     0.84519,     0.84503,     0.84428,      0.8442,     0.84412,     0.84404,\n",
       "            0.84293,     0.84277,     0.84261,     0.84244,     0.84234,     0.84225,     0.84215,     0.84207,     0.84198,      0.8419,     0.84182,     0.84142,     0.84134,     0.84126,     0.84118,      0.8404,     0.84024,     0.83912,     0.83895,     0.83847,     0.83831,     0.83814,     0.83798,\n",
       "            0.83718,     0.83702,     0.83658,     0.83647,     0.83636,     0.83636,     0.83636,     0.83564,     0.83547,     0.83403,     0.83387,     0.83339,     0.83322,     0.83312,     0.83304,     0.83295,     0.83287,     0.83272,     0.83256,     0.83112,     0.83096,     0.82979,     0.82896,\n",
       "            0.82879,     0.82863,     0.82847,     0.82767,      0.8275,      0.8267,     0.82654,     0.82637,     0.82621,     0.82569,     0.82485,     0.82468,     0.82452,     0.82436,     0.82419,     0.82403,     0.82227,     0.82211,     0.82096,     0.82075,     0.81962,     0.81946,      0.8193,\n",
       "            0.81913,     0.81881,     0.81868,     0.81855,     0.81776,      0.8176,     0.81573,      0.8154,     0.81519,     0.81503,     0.81482,     0.81393,     0.81361,     0.81334,     0.81318,     0.81203,     0.81181,     0.81165,     0.81148,       0.811,     0.81052,     0.81036,     0.81015,\n",
       "            0.80969,     0.80787,     0.80771,     0.80691,     0.80674,     0.80495,      0.8041,     0.80394,     0.80312,      0.8029,     0.80209,     0.80193,      0.8013,     0.80098,     0.80075,     0.79992,     0.79976,     0.79893,     0.79776,     0.79759,     0.79679,     0.79663,      0.7955,\n",
       "            0.79528,     0.79414,     0.79398,     0.79314,     0.79161,     0.79129,     0.78972,      0.7895,     0.78742,     0.78725,     0.78672,     0.78461,     0.78445,      0.7833,     0.78213,     0.78197,     0.78084,     0.78062,     0.77884,     0.77868,     0.77752,     0.77699,     0.77677,\n",
       "            0.77404,     0.77388,     0.77303,     0.77156,     0.77139,     0.76817,     0.76781,     0.76599,     0.76516,     0.76499,     0.76353,     0.76075,      0.7604,     0.75844,     0.75827,     0.75744,     0.75499,     0.75477,     0.75161,     0.75128,     0.74784,     0.74444,     0.74422,\n",
       "            0.74149,     0.74133,     0.73761,     0.73612,      0.7359,     0.73313,     0.73038,     0.73022,     0.72588,     0.72184,     0.72162,     0.71878,     0.71544,     0.71522,     0.71437,     0.71097,     0.71081,     0.70808,     0.70786,     0.70445,     0.70058,      0.7002,     0.69742,\n",
       "            0.69401,     0.69379,     0.69102,     0.68761,     0.68261,     0.68239,     0.67902,     0.67885,     0.67269,     0.66727,     0.66706,     0.66492,     0.66152,      0.6613,     0.65598,     0.65097,     0.65076,      0.6448,     0.63884,     0.63862,     0.63192,     0.62691,      0.6184,\n",
       "            0.61818,     0.61509,      0.6069,      0.6019,     0.60168,      0.5955,     0.58817,     0.58795,      0.5839,     0.57633,     0.57092,      0.5707,     0.56474,     0.55591,     0.55569,     0.54814,     0.54059,     0.54037,     0.53495,     0.52834,      0.5176,     0.50972,     0.50951,\n",
       "            0.50317,     0.49589,     0.48674,     0.48652,     0.47762,     0.46652,     0.45801,     0.45779,     0.44952,     0.44066,     0.43247,     0.43225,     0.42396,      0.4164,     0.40433,     0.39384,     0.39363,     0.38575,     0.37559,     0.36926,     0.36042,     0.35149,     0.35128,\n",
       "            0.34238,     0.33351,      0.3237,     0.31383,     0.31361,     0.30247,     0.29329,     0.28347,     0.27517,     0.26691,     0.26669,     0.25744,     0.24898,     0.24196,     0.23397,       0.227,     0.21944,     0.20984,     0.20153,     0.20108,     0.19533,     0.18926,     0.18263,\n",
       "            0.17824,     0.17249,     0.16546,     0.15847,     0.15825,     0.15188,      0.1439,     0.13815,     0.13432,      0.1293,     0.12298,     0.11818,     0.11307,     0.10764,     0.10253,     0.09965,    0.093901,    0.089815,    0.085113,    0.080639,    0.075847,    0.070656,    0.062752,\n",
       "           0.059236,    0.055719,    0.052202,    0.049961,    0.047082,    0.044523,    0.041325,    0.039403,    0.037481,    0.031253,    0.028997,    0.026771,    0.025169,    0.024204,     0.02292,    0.022274,    0.021565,    0.019547,    0.016987,    0.015384,    0.014738,    0.011381,    0.011054,\n",
       "           0.010447,    0.010229,   0.0095943,   0.0090994,   0.0089359,   0.0069383,   0.0067748,   0.0054151,   0.0052517,   0.0047227,   0.0042673,   0.0039403,   0.0036848,   0.0034836,   0.0033528,    0.003222,   0.0015602,   0.0014294,   0.0012986,   0.0011408,  0.00097729,  0.00088538,  0.00080363,\n",
       "         0.00072189,  0.00064015,  0.00060903,  0.00057931,  0.00054959,  0.00051986,  0.00049014,  0.00046041,  0.00043069,  0.00040097,  0.00037124,  0.00034152,           0,           0,           0,           0,           0,           0,           0,           0,           0,           0,           0,\n",
       "                  0,           0,           0,           0,           0,           0,           0,           0,           0,           0,           0,           0,           0,           0,           0,           0,           0,           0,           0,           0,           0,           0,           0,\n",
       "                  0,           0,           0,           0,           0,           0,           0,           0,           0,           0,           0,           0,           0,           0,           0,           0,           0,           0,           0,           0,           0,           0,           0,\n",
       "                  0,           0,           0,           0,           0,           0,           0,           0,           0,           0,           0,           0,           0,           0,           0,           0,           0,           0,           0,           0,           0,           0,           0,\n",
       "                  0,           0,           0,           0,           0,           0,           0,           0,           0,           0,           0]]), 'Confidence', 'Recall']]\n",
       "fitness: 0.7076497453309126\n",
       "keys: ['metrics/precision(B)', 'metrics/recall(B)', 'metrics/mAP50(B)', 'metrics/mAP50-95(B)']\n",
       "maps: array([     0.6847,      0.6847])\n",
       "names: {0: 'none', 1: 'annotation'}\n",
       "plot: True\n",
       "results_dict: {'metrics/precision(B)': 0.9831091065807183, 'metrics/recall(B)': 0.8725883778515358, 'metrics/mAP50(B)': 0.9142226384420056, 'metrics/mAP50-95(B)': 0.6846972016519022, 'fitness': 0.7076497453309126}\n",
       "save_dir: WindowsPath('runs/detect/train')\n",
       "speed: {'preprocess': 0.12576580047607422, 'inference': 8.783891797065735, 'loss': 0.0, 'postprocess': 0.7514506578445435}\n",
       "task: 'detect'"
      ]
     },
     "execution_count": 3,
     "metadata": {},
     "output_type": "execute_result"
    }
   ],
   "source": [
    "model = YOLO(\"yolov8x.pt\")\n",
    "model.train(data=\"./files/images/dataset.yaml\", epochs=50, batch=8, workers=4, degrees=90.0)"
   ]
  },
  {
   "cell_type": "code",
   "execution_count": 6,
   "metadata": {},
   "outputs": [
    {
     "name": "stdout",
     "output_type": "stream",
     "text": [
      "\n",
      "image 1/1 D:\\Code\\research\\task2-Doh\\image-original\\taskyolo_0 (1).tif: 480x640 300 annotations, 18.0ms\n",
      "Speed: 2.0ms preprocess, 18.0ms inference, 3.0ms postprocess per image at shape (1, 3, 480, 640)\n",
      "Results saved to \u001b[1mruns\\detect\\predict\u001b[0m\n"
     ]
    }
   ],
   "source": [
    "source=\"D:/Code/research/task2-Doh/image-original/taskyolo_0 (1).tif\"\n",
    "model = YOLO('./runs/detect/train/weights/best.pt')\n",
    "results = model.predict(source, save=True, conf=0.1, show_labels=False)"
   ]
  }
 ],
 "metadata": {
  "kernelspec": {
   "display_name": "venv3.9.13",
   "language": "python",
   "name": "python3"
  },
  "language_info": {
   "codemirror_mode": {
    "name": "ipython",
    "version": 3
   },
   "file_extension": ".py",
   "mimetype": "text/x-python",
   "name": "python",
   "nbconvert_exporter": "python",
   "pygments_lexer": "ipython3",
   "version": "3.9.13"
  }
 },
 "nbformat": 4,
 "nbformat_minor": 2
}
